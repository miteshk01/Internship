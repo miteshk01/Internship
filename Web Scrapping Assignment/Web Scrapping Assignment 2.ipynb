{
 "cells": [
  {
   "cell_type": "markdown",
   "id": "fbc79203",
   "metadata": {},
   "source": [
    "We will import all libraries required in this assignment"
   ]
  },
  {
   "cell_type": "code",
   "execution_count": 1,
   "id": "d21ffcde",
   "metadata": {},
   "outputs": [],
   "source": [
    "#importing required libraries\n",
    "import selenium\n",
    "from selenium import webdriver\n",
    "import pandas as pd\n",
    "import warnings\n",
    "warnings.filterwarnings('ignore')"
   ]
  },
  {
   "cell_type": "markdown",
   "id": "03bca820",
   "metadata": {},
   "source": [
    "## Q1."
   ]
  },
  {
   "cell_type": "code",
   "execution_count": 6,
   "id": "7c8d7072",
   "metadata": {},
   "outputs": [],
   "source": [
    "#Let's connect to web driver\n",
    "driver = webdriver.Chrome('chromedriver.exe')"
   ]
  },
  {
   "cell_type": "code",
   "execution_count": 7,
   "id": "905481f8",
   "metadata": {},
   "outputs": [],
   "source": [
    "url = 'https://www.naukri.com/'\n",
    "driver.get(url)"
   ]
  },
  {
   "cell_type": "code",
   "execution_count": 8,
   "id": "dc965086",
   "metadata": {},
   "outputs": [
    {
     "data": {
      "text/plain": [
       "<selenium.webdriver.remote.webelement.WebElement (session=\"80a0a2872c3ab670218eb912c0331978\", element=\"9e8e80ef-8df9-4132-bc57-1159eb0a6b9e\")>"
      ]
     },
     "execution_count": 8,
     "metadata": {},
     "output_type": "execute_result"
    }
   ],
   "source": [
    "search_job=driver.find_element_by_class_name(\"suggestor-input \")\n",
    "search_job"
   ]
  },
  {
   "cell_type": "code",
   "execution_count": 9,
   "id": "888c525b",
   "metadata": {},
   "outputs": [],
   "source": [
    "search_job.send_keys('Data Scientist')"
   ]
  },
  {
   "cell_type": "code",
   "execution_count": 10,
   "id": "406fc086",
   "metadata": {},
   "outputs": [
    {
     "data": {
      "text/plain": [
       "<selenium.webdriver.remote.webelement.WebElement (session=\"80a0a2872c3ab670218eb912c0331978\", element=\"4375231b-5c47-4176-80d0-ee26f4c9ae47\")>"
      ]
     },
     "execution_count": 10,
     "metadata": {},
     "output_type": "execute_result"
    }
   ],
   "source": [
    "search_lcn = driver.find_element_by_xpath('/html/body/div/div[2]/div[3]/div/div/div[3]/div/div/div/input')\n",
    "search_lcn"
   ]
  },
  {
   "cell_type": "code",
   "execution_count": 11,
   "id": "418fd2ab",
   "metadata": {},
   "outputs": [],
   "source": [
    "search_lcn.send_keys('Bangalore')"
   ]
  },
  {
   "cell_type": "code",
   "execution_count": 16,
   "id": "d7229a59",
   "metadata": {},
   "outputs": [
    {
     "data": {
      "text/plain": [
       "<selenium.webdriver.remote.webelement.WebElement (session=\"80a0a2872c3ab670218eb912c0331978\", element=\"e0eb7981-8419-4388-9a05-515b38dbaea2\")>"
      ]
     },
     "execution_count": 16,
     "metadata": {},
     "output_type": "execute_result"
    }
   ],
   "source": [
    "search_btn =driver.find_element_by_class_name('qsbSubmit')\n",
    "search_btn"
   ]
  },
  {
   "cell_type": "code",
   "execution_count": 17,
   "id": "c99bb3ea",
   "metadata": {},
   "outputs": [],
   "source": [
    "search_btn.click()"
   ]
  },
  {
   "cell_type": "markdown",
   "id": "9f6747f6",
   "metadata": {},
   "source": [
    "#### Extracting Job Information\n"
   ]
  },
  {
   "cell_type": "code",
   "execution_count": 21,
   "id": "348ee470",
   "metadata": {},
   "outputs": [
    {
     "data": {
      "text/plain": [
       "[<selenium.webdriver.remote.webelement.WebElement (session=\"80a0a2872c3ab670218eb912c0331978\", element=\"a58e3b40-a072-463f-9fa0-6255a467a039\")>,\n",
       " <selenium.webdriver.remote.webelement.WebElement (session=\"80a0a2872c3ab670218eb912c0331978\", element=\"80bde828-9fb4-4ea2-93d6-9d16771cdd96\")>,\n",
       " <selenium.webdriver.remote.webelement.WebElement (session=\"80a0a2872c3ab670218eb912c0331978\", element=\"8af763fd-c8c8-4a93-ba9c-1b1e5c359b67\")>,\n",
       " <selenium.webdriver.remote.webelement.WebElement (session=\"80a0a2872c3ab670218eb912c0331978\", element=\"310d5880-bc00-4c90-bdc2-22853c472e03\")>,\n",
       " <selenium.webdriver.remote.webelement.WebElement (session=\"80a0a2872c3ab670218eb912c0331978\", element=\"dac8242f-5e25-4f80-82a6-30b049f16bf2\")>,\n",
       " <selenium.webdriver.remote.webelement.WebElement (session=\"80a0a2872c3ab670218eb912c0331978\", element=\"c5fde8d8-a96e-469d-9a5d-4995dca8b912\")>,\n",
       " <selenium.webdriver.remote.webelement.WebElement (session=\"80a0a2872c3ab670218eb912c0331978\", element=\"3ce72460-d1ab-42e8-8500-61cbcc53edba\")>,\n",
       " <selenium.webdriver.remote.webelement.WebElement (session=\"80a0a2872c3ab670218eb912c0331978\", element=\"6a81d636-8d0a-4a74-956c-d1138f0dcab2\")>,\n",
       " <selenium.webdriver.remote.webelement.WebElement (session=\"80a0a2872c3ab670218eb912c0331978\", element=\"35362e9c-8f34-4c0b-9fae-47a1514359d0\")>,\n",
       " <selenium.webdriver.remote.webelement.WebElement (session=\"80a0a2872c3ab670218eb912c0331978\", element=\"f213ae87-53cd-4ab3-965a-ce558919826f\")>,\n",
       " <selenium.webdriver.remote.webelement.WebElement (session=\"80a0a2872c3ab670218eb912c0331978\", element=\"9ec4a51f-8df5-4f53-a8ed-5124ab13b821\")>,\n",
       " <selenium.webdriver.remote.webelement.WebElement (session=\"80a0a2872c3ab670218eb912c0331978\", element=\"7e22ec68-8bad-48b6-bf4a-b8cc01deb79a\")>,\n",
       " <selenium.webdriver.remote.webelement.WebElement (session=\"80a0a2872c3ab670218eb912c0331978\", element=\"3c388b1c-2b77-4b4e-851f-4d4a0a37f217\")>,\n",
       " <selenium.webdriver.remote.webelement.WebElement (session=\"80a0a2872c3ab670218eb912c0331978\", element=\"0258a41f-6318-479e-8491-fbffaeab073a\")>,\n",
       " <selenium.webdriver.remote.webelement.WebElement (session=\"80a0a2872c3ab670218eb912c0331978\", element=\"6e5b761e-baa1-46b4-b9b1-260eaf12cbbe\")>,\n",
       " <selenium.webdriver.remote.webelement.WebElement (session=\"80a0a2872c3ab670218eb912c0331978\", element=\"4d219d0f-2523-410b-8b75-e050a585c1c7\")>,\n",
       " <selenium.webdriver.remote.webelement.WebElement (session=\"80a0a2872c3ab670218eb912c0331978\", element=\"2a39b816-aaec-405e-8e90-68c57861fcb2\")>,\n",
       " <selenium.webdriver.remote.webelement.WebElement (session=\"80a0a2872c3ab670218eb912c0331978\", element=\"49faf948-0b5b-4ad5-ad81-8f2a2ff3dc8f\")>,\n",
       " <selenium.webdriver.remote.webelement.WebElement (session=\"80a0a2872c3ab670218eb912c0331978\", element=\"d270c4e4-1db7-47de-bd0d-fe57f1e12a39\")>,\n",
       " <selenium.webdriver.remote.webelement.WebElement (session=\"80a0a2872c3ab670218eb912c0331978\", element=\"2174895c-2473-40ba-b9b7-8789d353c13d\")>]"
      ]
     },
     "execution_count": 21,
     "metadata": {},
     "output_type": "execute_result"
    }
   ],
   "source": [
    "#let's extract all the web elements having job title\n",
    "title_tags=driver.find_elements_by_xpath('//a[@class=\"title fw500 ellipsis\"]')\n",
    "title_tags"
   ]
  },
  {
   "cell_type": "code",
   "execution_count": 33,
   "id": "55e58338",
   "metadata": {},
   "outputs": [
    {
     "data": {
      "text/plain": [
       "['Global Tax Automation & Operations - Data Scientist Senior Analyst',\n",
       " 'Data Scientist / Analyst',\n",
       " 'Senior Data Scientist I',\n",
       " 'Senior Risk Data Scientist',\n",
       " 'Data Scientist: Advanced Analytics',\n",
       " 'Data Scientist: Advanced Analytics',\n",
       " 'Data Scientist: Artificial Intelligence',\n",
       " 'Global Tax Automation & Operations / Data Scientist Advisor',\n",
       " 'Data Scientist',\n",
       " 'Data Scientist: Artificial Intelligence']"
      ]
     },
     "execution_count": 33,
     "metadata": {},
     "output_type": "execute_result"
    }
   ],
   "source": [
    "#Now we'll extract job titles from web elements into a list\n",
    "# We will use for loop for that\n",
    "job_titles = []\n",
    "for i in range(0,10):\n",
    "    job_titles.append(title_tags[i].text)\n",
    "job_titles "
   ]
  },
  {
   "cell_type": "code",
   "execution_count": 24,
   "id": "1b8c28c9",
   "metadata": {},
   "outputs": [
    {
     "data": {
      "text/plain": [
       "[<selenium.webdriver.remote.webelement.WebElement (session=\"80a0a2872c3ab670218eb912c0331978\", element=\"f6b95552-7900-49a2-b729-056e0c553d0f\")>,\n",
       " <selenium.webdriver.remote.webelement.WebElement (session=\"80a0a2872c3ab670218eb912c0331978\", element=\"357b7425-18c5-4deb-95d4-e32804d0f654\")>,\n",
       " <selenium.webdriver.remote.webelement.WebElement (session=\"80a0a2872c3ab670218eb912c0331978\", element=\"c5def32c-4c1c-4dfb-806a-ec5d0ce05422\")>,\n",
       " <selenium.webdriver.remote.webelement.WebElement (session=\"80a0a2872c3ab670218eb912c0331978\", element=\"411923d5-7b90-45cd-b0fd-2ae82ac4bda9\")>,\n",
       " <selenium.webdriver.remote.webelement.WebElement (session=\"80a0a2872c3ab670218eb912c0331978\", element=\"dd2a2ee9-8e6f-49fb-92f2-4ccb60aeb7ca\")>,\n",
       " <selenium.webdriver.remote.webelement.WebElement (session=\"80a0a2872c3ab670218eb912c0331978\", element=\"c986cbbd-40b5-416a-b926-a24db281a4da\")>,\n",
       " <selenium.webdriver.remote.webelement.WebElement (session=\"80a0a2872c3ab670218eb912c0331978\", element=\"71a0d37a-32d8-4b1c-ad6c-2069a5648bc8\")>,\n",
       " <selenium.webdriver.remote.webelement.WebElement (session=\"80a0a2872c3ab670218eb912c0331978\", element=\"ba5125e2-d43a-4a64-9a26-ce678b6d1a0d\")>,\n",
       " <selenium.webdriver.remote.webelement.WebElement (session=\"80a0a2872c3ab670218eb912c0331978\", element=\"7593467c-212e-4d11-bbcd-628a23deef7f\")>,\n",
       " <selenium.webdriver.remote.webelement.WebElement (session=\"80a0a2872c3ab670218eb912c0331978\", element=\"f3792517-e4f7-49a1-aca9-37dace46dcfb\")>,\n",
       " <selenium.webdriver.remote.webelement.WebElement (session=\"80a0a2872c3ab670218eb912c0331978\", element=\"957873d0-68b6-4b97-8855-1fe30a3b54ab\")>,\n",
       " <selenium.webdriver.remote.webelement.WebElement (session=\"80a0a2872c3ab670218eb912c0331978\", element=\"cdb053f3-c00d-47c8-b48a-57fbb8415757\")>,\n",
       " <selenium.webdriver.remote.webelement.WebElement (session=\"80a0a2872c3ab670218eb912c0331978\", element=\"e7b17ed4-676e-4c0c-95c2-a11b1e8243bf\")>,\n",
       " <selenium.webdriver.remote.webelement.WebElement (session=\"80a0a2872c3ab670218eb912c0331978\", element=\"fb338b5f-8ccb-4845-8612-3774f03549cc\")>,\n",
       " <selenium.webdriver.remote.webelement.WebElement (session=\"80a0a2872c3ab670218eb912c0331978\", element=\"bf8c966b-1562-4502-837f-73902e6bb48b\")>,\n",
       " <selenium.webdriver.remote.webelement.WebElement (session=\"80a0a2872c3ab670218eb912c0331978\", element=\"84aad5f6-ac02-49ef-bf71-a159dc8cbd98\")>,\n",
       " <selenium.webdriver.remote.webelement.WebElement (session=\"80a0a2872c3ab670218eb912c0331978\", element=\"63ca2374-0d5b-4b9e-94e8-0a8e645de609\")>,\n",
       " <selenium.webdriver.remote.webelement.WebElement (session=\"80a0a2872c3ab670218eb912c0331978\", element=\"45b6a3d4-de35-40f2-9305-ed16edbf3cf9\")>,\n",
       " <selenium.webdriver.remote.webelement.WebElement (session=\"80a0a2872c3ab670218eb912c0331978\", element=\"d0343084-9696-4f0b-aed4-d0dd8ee673d5\")>,\n",
       " <selenium.webdriver.remote.webelement.WebElement (session=\"80a0a2872c3ab670218eb912c0331978\", element=\"01c7a309-f2a5-479a-99e5-b2f2f6792c50\")>]"
      ]
     },
     "execution_count": 24,
     "metadata": {},
     "output_type": "execute_result"
    }
   ],
   "source": [
    "#let's find all web elements having company name\n",
    "company_tags=driver.find_elements_by_xpath('//a[@class=\"subTitle ellipsis fleft\"]')\n",
    "company_tags"
   ]
  },
  {
   "cell_type": "code",
   "execution_count": 34,
   "id": "4deec7bc",
   "metadata": {},
   "outputs": [],
   "source": [
    "#Now we'll extract company names into as list using a for loop\n",
    "company_name = []\n",
    "for i in range(0,10):\n",
    "    company_name.append(company_tags[i].text)"
   ]
  },
  {
   "cell_type": "code",
   "execution_count": 35,
   "id": "6ed1c36b",
   "metadata": {},
   "outputs": [
    {
     "data": {
      "text/plain": [
       "['Dell',\n",
       " 'Talentify',\n",
       " 'Delhivery',\n",
       " 'GSK India',\n",
       " 'IBM',\n",
       " 'IBM',\n",
       " 'IBM',\n",
       " 'Dell',\n",
       " 'IBM',\n",
       " 'IBM']"
      ]
     },
     "execution_count": 35,
     "metadata": {},
     "output_type": "execute_result"
    }
   ],
   "source": [
    "company_name"
   ]
  },
  {
   "cell_type": "code",
   "execution_count": 27,
   "id": "ea0629d4",
   "metadata": {},
   "outputs": [
    {
     "data": {
      "text/plain": [
       "[<selenium.webdriver.remote.webelement.WebElement (session=\"80a0a2872c3ab670218eb912c0331978\", element=\"4ea567b8-80b6-47bb-8bdb-89bfdf3419b5\")>,\n",
       " <selenium.webdriver.remote.webelement.WebElement (session=\"80a0a2872c3ab670218eb912c0331978\", element=\"183bffa4-fab6-4f0f-bfaa-a42303020fba\")>,\n",
       " <selenium.webdriver.remote.webelement.WebElement (session=\"80a0a2872c3ab670218eb912c0331978\", element=\"f9d2e57a-36fb-4c2e-8958-84bf536204c9\")>,\n",
       " <selenium.webdriver.remote.webelement.WebElement (session=\"80a0a2872c3ab670218eb912c0331978\", element=\"04225103-5ab1-47e3-8eb5-da3fec431ba8\")>,\n",
       " <selenium.webdriver.remote.webelement.WebElement (session=\"80a0a2872c3ab670218eb912c0331978\", element=\"ca47292b-d309-4521-aaa4-2954a9870aea\")>,\n",
       " <selenium.webdriver.remote.webelement.WebElement (session=\"80a0a2872c3ab670218eb912c0331978\", element=\"9db81747-7a44-47d2-a6b7-932518545c5b\")>,\n",
       " <selenium.webdriver.remote.webelement.WebElement (session=\"80a0a2872c3ab670218eb912c0331978\", element=\"c97cc133-b958-40dd-b3f9-167963720f1d\")>,\n",
       " <selenium.webdriver.remote.webelement.WebElement (session=\"80a0a2872c3ab670218eb912c0331978\", element=\"edff4f40-14df-4acf-962c-bd734c9ff202\")>,\n",
       " <selenium.webdriver.remote.webelement.WebElement (session=\"80a0a2872c3ab670218eb912c0331978\", element=\"d5ac272b-df76-49d4-92c2-17713fdfb792\")>,\n",
       " <selenium.webdriver.remote.webelement.WebElement (session=\"80a0a2872c3ab670218eb912c0331978\", element=\"a7e5c327-93e0-4081-8ba2-41468d3e5aff\")>,\n",
       " <selenium.webdriver.remote.webelement.WebElement (session=\"80a0a2872c3ab670218eb912c0331978\", element=\"530a95a4-3e20-4e88-8006-4c95e9a0514c\")>,\n",
       " <selenium.webdriver.remote.webelement.WebElement (session=\"80a0a2872c3ab670218eb912c0331978\", element=\"8e1e1b1d-440b-4ac0-876a-7bfb0784dcf3\")>,\n",
       " <selenium.webdriver.remote.webelement.WebElement (session=\"80a0a2872c3ab670218eb912c0331978\", element=\"4ad551a2-041a-431b-aa9b-38e46e287a1f\")>,\n",
       " <selenium.webdriver.remote.webelement.WebElement (session=\"80a0a2872c3ab670218eb912c0331978\", element=\"679211c8-a530-488d-9d08-4519fa1afd74\")>,\n",
       " <selenium.webdriver.remote.webelement.WebElement (session=\"80a0a2872c3ab670218eb912c0331978\", element=\"c4ebee76-cd87-435b-bd54-04f54546bf43\")>,\n",
       " <selenium.webdriver.remote.webelement.WebElement (session=\"80a0a2872c3ab670218eb912c0331978\", element=\"a8762a44-dc22-452e-a12a-ff299cb20d68\")>,\n",
       " <selenium.webdriver.remote.webelement.WebElement (session=\"80a0a2872c3ab670218eb912c0331978\", element=\"ffff521a-f2e5-4bca-a2a4-5c5ef692743b\")>,\n",
       " <selenium.webdriver.remote.webelement.WebElement (session=\"80a0a2872c3ab670218eb912c0331978\", element=\"3fc5cd4e-e9aa-4669-8c15-bbffa8f8a873\")>,\n",
       " <selenium.webdriver.remote.webelement.WebElement (session=\"80a0a2872c3ab670218eb912c0331978\", element=\"9dd4dda4-3f11-49a7-82f3-e3be91aabc6c\")>,\n",
       " <selenium.webdriver.remote.webelement.WebElement (session=\"80a0a2872c3ab670218eb912c0331978\", element=\"fd8a0060-ded6-4c37-a194-a7968fd55ee4\")>]"
      ]
     },
     "execution_count": 27,
     "metadata": {},
     "output_type": "execute_result"
    }
   ],
   "source": [
    "#extracting all web elements having location of location\n",
    "location_tags = driver.find_elements_by_xpath('//li[@class=\"fleft grey-text br2 placeHolderLi location\"]')\n",
    "location_tags"
   ]
  },
  {
   "cell_type": "code",
   "execution_count": 36,
   "id": "021add00",
   "metadata": {},
   "outputs": [
    {
     "data": {
      "text/plain": [
       "['Bangalore/Bengaluru',\n",
       " 'Hyderabad/Secunderabad, Bangalore/Bengaluru, Delhi / NCR',\n",
       " 'Bangalore/Bengaluru',\n",
       " 'Bangalore/Bengaluru',\n",
       " 'Bangalore/Bengaluru',\n",
       " 'Bangalore/Bengaluru',\n",
       " 'Bangalore/Bengaluru',\n",
       " 'Bangalore/Bengaluru',\n",
       " 'Bangalore/Bengaluru',\n",
       " 'Bangalore/Bengaluru']"
      ]
     },
     "execution_count": 36,
     "metadata": {},
     "output_type": "execute_result"
    }
   ],
   "source": [
    "#extracting company location from web elements\n",
    "job_location =[]\n",
    "\n",
    "for i in range(0,10):\n",
    "    job_location.append(location_tags[i].text)\n",
    "    \n",
    "job_location"
   ]
  },
  {
   "cell_type": "code",
   "execution_count": 29,
   "id": "692ce6d2",
   "metadata": {
    "code_folding": []
   },
   "outputs": [
    {
     "data": {
      "text/plain": [
       "20"
      ]
     },
     "execution_count": 29,
     "metadata": {},
     "output_type": "execute_result"
    }
   ],
   "source": [
    "#now we'll extract web elements having experience required for job\n",
    "exp_tags=driver.find_elements_by_xpath('//span[contains(@title,\"Yrs\")]')\n",
    "len(exp_tags)"
   ]
  },
  {
   "cell_type": "code",
   "execution_count": 37,
   "id": "2079f59c",
   "metadata": {},
   "outputs": [
    {
     "data": {
      "text/plain": [
       "['3-5 Yrs',\n",
       " '0-1 Yrs',\n",
       " '3-7 Yrs',\n",
       " '5-10 Yrs',\n",
       " '5-10 Yrs',\n",
       " '5-10 Yrs',\n",
       " '12-15 Yrs',\n",
       " '5-7 Yrs',\n",
       " '3-4 Yrs',\n",
       " '12-15 Yrs']"
      ]
     },
     "execution_count": 37,
     "metadata": {},
     "output_type": "execute_result"
    }
   ],
   "source": [
    "#extracting experience from web elements using for loop into a list\n",
    "experience=[]\n",
    "for i in range(0,10):\n",
    "    experience.append(exp_tags[i].text)\n",
    "experience"
   ]
  },
  {
   "cell_type": "code",
   "execution_count": 38,
   "id": "55018208",
   "metadata": {},
   "outputs": [
    {
     "data": {
      "text/plain": [
       "(10, 10, 10, 10)"
      ]
     },
     "execution_count": 38,
     "metadata": {},
     "output_type": "execute_result"
    }
   ],
   "source": [
    "len(job_titles),len(company_name),len(job_location),len(experience)"
   ]
  },
  {
   "cell_type": "code",
   "execution_count": 39,
   "id": "377f8d3c",
   "metadata": {},
   "outputs": [
    {
     "data": {
      "text/html": [
       "<div>\n",
       "<style scoped>\n",
       "    .dataframe tbody tr th:only-of-type {\n",
       "        vertical-align: middle;\n",
       "    }\n",
       "\n",
       "    .dataframe tbody tr th {\n",
       "        vertical-align: top;\n",
       "    }\n",
       "\n",
       "    .dataframe thead th {\n",
       "        text-align: right;\n",
       "    }\n",
       "</style>\n",
       "<table border=\"1\" class=\"dataframe\">\n",
       "  <thead>\n",
       "    <tr style=\"text-align: right;\">\n",
       "      <th></th>\n",
       "      <th>Job Title</th>\n",
       "      <th>Company</th>\n",
       "      <th>Location</th>\n",
       "      <th>Experience Required</th>\n",
       "    </tr>\n",
       "  </thead>\n",
       "  <tbody>\n",
       "    <tr>\n",
       "      <th>0</th>\n",
       "      <td>Global Tax Automation &amp; Operations - Data Scie...</td>\n",
       "      <td>Dell</td>\n",
       "      <td>Bangalore/Bengaluru</td>\n",
       "      <td>3-5 Yrs</td>\n",
       "    </tr>\n",
       "    <tr>\n",
       "      <th>1</th>\n",
       "      <td>Data Scientist / Analyst</td>\n",
       "      <td>Talentify</td>\n",
       "      <td>Hyderabad/Secunderabad, Bangalore/Bengaluru, D...</td>\n",
       "      <td>0-1 Yrs</td>\n",
       "    </tr>\n",
       "    <tr>\n",
       "      <th>2</th>\n",
       "      <td>Senior Data Scientist I</td>\n",
       "      <td>Delhivery</td>\n",
       "      <td>Bangalore/Bengaluru</td>\n",
       "      <td>3-7 Yrs</td>\n",
       "    </tr>\n",
       "    <tr>\n",
       "      <th>3</th>\n",
       "      <td>Senior Risk Data Scientist</td>\n",
       "      <td>GSK India</td>\n",
       "      <td>Bangalore/Bengaluru</td>\n",
       "      <td>5-10 Yrs</td>\n",
       "    </tr>\n",
       "    <tr>\n",
       "      <th>4</th>\n",
       "      <td>Data Scientist: Advanced Analytics</td>\n",
       "      <td>IBM</td>\n",
       "      <td>Bangalore/Bengaluru</td>\n",
       "      <td>5-10 Yrs</td>\n",
       "    </tr>\n",
       "    <tr>\n",
       "      <th>5</th>\n",
       "      <td>Data Scientist: Advanced Analytics</td>\n",
       "      <td>IBM</td>\n",
       "      <td>Bangalore/Bengaluru</td>\n",
       "      <td>5-10 Yrs</td>\n",
       "    </tr>\n",
       "    <tr>\n",
       "      <th>6</th>\n",
       "      <td>Data Scientist: Artificial Intelligence</td>\n",
       "      <td>IBM</td>\n",
       "      <td>Bangalore/Bengaluru</td>\n",
       "      <td>12-15 Yrs</td>\n",
       "    </tr>\n",
       "    <tr>\n",
       "      <th>7</th>\n",
       "      <td>Global Tax Automation &amp; Operations / Data Scie...</td>\n",
       "      <td>Dell</td>\n",
       "      <td>Bangalore/Bengaluru</td>\n",
       "      <td>5-7 Yrs</td>\n",
       "    </tr>\n",
       "    <tr>\n",
       "      <th>8</th>\n",
       "      <td>Data Scientist</td>\n",
       "      <td>IBM</td>\n",
       "      <td>Bangalore/Bengaluru</td>\n",
       "      <td>3-4 Yrs</td>\n",
       "    </tr>\n",
       "    <tr>\n",
       "      <th>9</th>\n",
       "      <td>Data Scientist: Artificial Intelligence</td>\n",
       "      <td>IBM</td>\n",
       "      <td>Bangalore/Bengaluru</td>\n",
       "      <td>12-15 Yrs</td>\n",
       "    </tr>\n",
       "  </tbody>\n",
       "</table>\n",
       "</div>"
      ],
      "text/plain": [
       "                                           Job Title    Company  \\\n",
       "0  Global Tax Automation & Operations - Data Scie...       Dell   \n",
       "1                           Data Scientist / Analyst  Talentify   \n",
       "2                            Senior Data Scientist I  Delhivery   \n",
       "3                         Senior Risk Data Scientist  GSK India   \n",
       "4                 Data Scientist: Advanced Analytics        IBM   \n",
       "5                 Data Scientist: Advanced Analytics        IBM   \n",
       "6            Data Scientist: Artificial Intelligence        IBM   \n",
       "7  Global Tax Automation & Operations / Data Scie...       Dell   \n",
       "8                                     Data Scientist        IBM   \n",
       "9            Data Scientist: Artificial Intelligence        IBM   \n",
       "\n",
       "                                            Location Experience Required  \n",
       "0                                Bangalore/Bengaluru             3-5 Yrs  \n",
       "1  Hyderabad/Secunderabad, Bangalore/Bengaluru, D...             0-1 Yrs  \n",
       "2                                Bangalore/Bengaluru             3-7 Yrs  \n",
       "3                                Bangalore/Bengaluru            5-10 Yrs  \n",
       "4                                Bangalore/Bengaluru            5-10 Yrs  \n",
       "5                                Bangalore/Bengaluru            5-10 Yrs  \n",
       "6                                Bangalore/Bengaluru           12-15 Yrs  \n",
       "7                                Bangalore/Bengaluru             5-7 Yrs  \n",
       "8                                Bangalore/Bengaluru             3-4 Yrs  \n",
       "9                                Bangalore/Bengaluru           12-15 Yrs  "
      ]
     },
     "execution_count": 39,
     "metadata": {},
     "output_type": "execute_result"
    }
   ],
   "source": [
    "#creating as dataframe and storing all extracted data into it\n",
    "job_info=pd.DataFrame()\n",
    "job_info['Job Title'] =job_titles\n",
    "job_info['Company'] =company_name\n",
    "job_info['Location'] = job_location\n",
    "job_info['Experience Required'] = experience\n",
    "job_info"
   ]
  },
  {
   "cell_type": "markdown",
   "id": "ba891965",
   "metadata": {},
   "source": [
    " "
   ]
  },
  {
   "cell_type": "markdown",
   "id": "02fa9196",
   "metadata": {},
   "source": [
    "## Q3."
   ]
  },
  {
   "cell_type": "code",
   "execution_count": 40,
   "id": "c97d2fdd",
   "metadata": {},
   "outputs": [],
   "source": [
    "driver1 =webdriver.Chrome('chromedriver.exe')"
   ]
  },
  {
   "cell_type": "code",
   "execution_count": 41,
   "id": "70091481",
   "metadata": {},
   "outputs": [],
   "source": [
    "url='https://www.naukri.com/'\n",
    "driver1.get(url)"
   ]
  },
  {
   "cell_type": "code",
   "execution_count": 42,
   "id": "597e15bf",
   "metadata": {},
   "outputs": [
    {
     "data": {
      "text/plain": [
       "<selenium.webdriver.remote.webelement.WebElement (session=\"7c2db714c4806dce3b8cf6f2d85088d9\", element=\"c2278559-2571-42b9-a0a5-297f41f6a165\")>"
      ]
     },
     "execution_count": 42,
     "metadata": {},
     "output_type": "execute_result"
    }
   ],
   "source": [
    "search_text = driver1.find_element_by_class_name(\"suggestor-input \")\n",
    "search_text"
   ]
  },
  {
   "cell_type": "code",
   "execution_count": 43,
   "id": "9a328745",
   "metadata": {},
   "outputs": [],
   "source": [
    "search_text.send_keys('Data Scientist')"
   ]
  },
  {
   "cell_type": "code",
   "execution_count": 46,
   "id": "1d0954d1",
   "metadata": {},
   "outputs": [
    {
     "data": {
      "text/plain": [
       "<selenium.webdriver.remote.webelement.WebElement (session=\"7c2db714c4806dce3b8cf6f2d85088d9\", element=\"d9b271a8-7231-4c79-81c0-b226f2e4a31e\")>"
      ]
     },
     "execution_count": 46,
     "metadata": {},
     "output_type": "execute_result"
    }
   ],
   "source": [
    "search_btn = driver1.find_element_by_class_name('qsbSubmit')\n",
    "search_btn"
   ]
  },
  {
   "cell_type": "code",
   "execution_count": 47,
   "id": "1c127286",
   "metadata": {},
   "outputs": [],
   "source": [
    "search_btn.click()"
   ]
  },
  {
   "cell_type": "markdown",
   "id": "0361a003",
   "metadata": {},
   "source": [
    "Now we will apply salary and location filters to get result."
   ]
  },
  {
   "cell_type": "code",
   "execution_count": 48,
   "id": "f5f6341c",
   "metadata": {},
   "outputs": [
    {
     "data": {
      "text/plain": [
       "<selenium.webdriver.remote.webelement.WebElement (session=\"7c2db714c4806dce3b8cf6f2d85088d9\", element=\"48b5db0d-6cbd-4dbb-bc99-24fe641cdf2f\")>"
      ]
     },
     "execution_count": 48,
     "metadata": {},
     "output_type": "execute_result"
    }
   ],
   "source": [
    "lcn =driver1.find_element_by_xpath('/html/body/div[1]/div[3]/div[2]/section[1]/div[2]/div[3]/div[2]/div[3]/label/p/span[1]')\n",
    "lcn"
   ]
  },
  {
   "cell_type": "code",
   "execution_count": 50,
   "id": "7380795e",
   "metadata": {},
   "outputs": [],
   "source": [
    "lcn.click()"
   ]
  },
  {
   "cell_type": "code",
   "execution_count": 51,
   "id": "25582fc7",
   "metadata": {},
   "outputs": [
    {
     "data": {
      "text/plain": [
       "<selenium.webdriver.remote.webelement.WebElement (session=\"7c2db714c4806dce3b8cf6f2d85088d9\", element=\"5bf7f162-6d0a-43ae-abb2-3881ff594ac3\")>"
      ]
     },
     "execution_count": 51,
     "metadata": {},
     "output_type": "execute_result"
    }
   ],
   "source": [
    "sal=driver1.find_element_by_xpath('/html/body/div[1]/div[3]/div[2]/section[1]/div[2]/div[4]/div[2]/div[2]/label/p/span[1]')\n",
    "sal"
   ]
  },
  {
   "cell_type": "code",
   "execution_count": 52,
   "id": "f2fe66e6",
   "metadata": {},
   "outputs": [],
   "source": [
    "sal.click()"
   ]
  },
  {
   "cell_type": "markdown",
   "id": "2a64fe56",
   "metadata": {},
   "source": [
    "#### Extracting Data"
   ]
  },
  {
   "cell_type": "markdown",
   "id": "0cb2d169",
   "metadata": {},
   "source": [
    "We are going to extract data from website."
   ]
  },
  {
   "cell_type": "code",
   "execution_count": 53,
   "id": "c0ecf002",
   "metadata": {},
   "outputs": [
    {
     "data": {
      "text/plain": [
       "20"
      ]
     },
     "execution_count": 53,
     "metadata": {},
     "output_type": "execute_result"
    }
   ],
   "source": [
    "title =driver1.find_elements_by_xpath('//a[@class=\"title fw500 ellipsis\"]')\n",
    "len(title)"
   ]
  },
  {
   "cell_type": "code",
   "execution_count": 54,
   "id": "431e7814",
   "metadata": {},
   "outputs": [
    {
     "data": {
      "text/plain": [
       "['Opening For Data Scientist',\n",
       " 'Data Scientist II',\n",
       " 'Data Scientist',\n",
       " 'Lead Data Scientist - KYC/Fraud/Marketing',\n",
       " 'Junior Data Scientist - Goods & Service Tax Network, Delhi',\n",
       " 'Associate Data Scientist - Java/ Scala/ Apache Server',\n",
       " 'Data Scientist',\n",
       " 'Data Scientist',\n",
       " 'Data Scientist',\n",
       " 'Data Scientist / Senior DS/ Team Lead']"
      ]
     },
     "execution_count": 54,
     "metadata": {},
     "output_type": "execute_result"
    }
   ],
   "source": [
    "job_name=[]\n",
    "for i in range(0,10):\n",
    "    job_name.append(title[i].text)\n",
    "job_name"
   ]
  },
  {
   "cell_type": "code",
   "execution_count": 58,
   "id": "322c78ed",
   "metadata": {},
   "outputs": [
    {
     "data": {
      "text/plain": [
       "20"
      ]
     },
     "execution_count": 58,
     "metadata": {},
     "output_type": "execute_result"
    }
   ],
   "source": [
    "locn= driver1.find_elements_by_xpath('//li[@class=\"fleft grey-text br2 placeHolderLi location\"]')\n",
    "len(locn)"
   ]
  },
  {
   "cell_type": "code",
   "execution_count": 60,
   "id": "f00aa0a0",
   "metadata": {},
   "outputs": [
    {
     "data": {
      "text/plain": [
       "['Gurgaon/Gurugram',\n",
       " 'Delhi / NCR',\n",
       " 'Noida',\n",
       " 'New Delhi',\n",
       " 'Delhi / NCR',\n",
       " 'Noida',\n",
       " 'New Delhi, Delhi / NCR, Mumbai (All Areas)',\n",
       " 'Gurgaon/Gurugram\\n(WFH during Covid)',\n",
       " 'New Delhi',\n",
       " 'Mumbai, Gurgaon/Gurugram(Cyber City +1)']"
      ]
     },
     "execution_count": 60,
     "metadata": {},
     "output_type": "execute_result"
    }
   ],
   "source": [
    "location =[]\n",
    "for i in range(0,10):\n",
    "    location.append(locn[i].text)\n",
    "location"
   ]
  },
  {
   "cell_type": "code",
   "execution_count": 61,
   "id": "6b6e6ce6",
   "metadata": {},
   "outputs": [
    {
     "data": {
      "text/plain": [
       "20"
      ]
     },
     "execution_count": 61,
     "metadata": {},
     "output_type": "execute_result"
    }
   ],
   "source": [
    "company_tag =driver1.find_elements_by_xpath('//a[@class=\"subTitle ellipsis fleft\"]')\n",
    "len(company_tag)"
   ]
  },
  {
   "cell_type": "code",
   "execution_count": 63,
   "id": "9ec5b1cb",
   "metadata": {},
   "outputs": [
    {
     "data": {
      "text/plain": [
       "['Care Health Insurance',\n",
       " 'Chegg',\n",
       " 'Stefanini',\n",
       " 'Tide Software',\n",
       " 'NISG (National Institute for Smart Government)',\n",
       " 'Smart work Consultants',\n",
       " 'Cloudstrats Technologies Private Limited',\n",
       " 'Zekardo Automotive Solutions',\n",
       " 'Team Computers Pvt Ltd',\n",
       " 'NebulARC Technologies Private Limited']"
      ]
     },
     "execution_count": 63,
     "metadata": {},
     "output_type": "execute_result"
    }
   ],
   "source": [
    "company = []\n",
    "for i in range(0,10):\n",
    "    company.append(company_tag[i].text)\n",
    "company"
   ]
  },
  {
   "cell_type": "code",
   "execution_count": 64,
   "id": "036e6105",
   "metadata": {},
   "outputs": [
    {
     "data": {
      "text/plain": [
       "20"
      ]
     },
     "execution_count": 64,
     "metadata": {},
     "output_type": "execute_result"
    }
   ],
   "source": [
    "exp_tags =driver1.find_elements_by_xpath('//span[contains(@title,\"Yrs\")]')\n",
    "len(exp_tags)"
   ]
  },
  {
   "cell_type": "code",
   "execution_count": 65,
   "id": "c35cf4aa",
   "metadata": {},
   "outputs": [
    {
     "data": {
      "text/plain": [
       "['1-5 Yrs',\n",
       " '2-6 Yrs',\n",
       " '3-8 Yrs',\n",
       " '1-6 Yrs',\n",
       " '3-8 Yrs',\n",
       " '1-4 Yrs',\n",
       " '3-5 Yrs',\n",
       " '5-8 Yrs',\n",
       " '2-6 Yrs',\n",
       " '0-4 Yrs']"
      ]
     },
     "execution_count": 65,
     "metadata": {},
     "output_type": "execute_result"
    }
   ],
   "source": [
    "expn = []\n",
    "for i in range(0,10):\n",
    "    expn.append(exp_tags[i].text)\n",
    "expn"
   ]
  },
  {
   "cell_type": "code",
   "execution_count": 67,
   "id": "57f7d030",
   "metadata": {},
   "outputs": [
    {
     "data": {
      "text/html": [
       "<div>\n",
       "<style scoped>\n",
       "    .dataframe tbody tr th:only-of-type {\n",
       "        vertical-align: middle;\n",
       "    }\n",
       "\n",
       "    .dataframe tbody tr th {\n",
       "        vertical-align: top;\n",
       "    }\n",
       "\n",
       "    .dataframe thead th {\n",
       "        text-align: right;\n",
       "    }\n",
       "</style>\n",
       "<table border=\"1\" class=\"dataframe\">\n",
       "  <thead>\n",
       "    <tr style=\"text-align: right;\">\n",
       "      <th></th>\n",
       "      <th>Job Title</th>\n",
       "      <th>Comapany</th>\n",
       "      <th>Location</th>\n",
       "      <th>Experience</th>\n",
       "    </tr>\n",
       "  </thead>\n",
       "  <tbody>\n",
       "    <tr>\n",
       "      <th>0</th>\n",
       "      <td>Opening For Data Scientist</td>\n",
       "      <td>Care Health Insurance</td>\n",
       "      <td>Gurgaon/Gurugram</td>\n",
       "      <td>1-5 Yrs</td>\n",
       "    </tr>\n",
       "    <tr>\n",
       "      <th>1</th>\n",
       "      <td>Data Scientist II</td>\n",
       "      <td>Chegg</td>\n",
       "      <td>Delhi / NCR</td>\n",
       "      <td>2-6 Yrs</td>\n",
       "    </tr>\n",
       "    <tr>\n",
       "      <th>2</th>\n",
       "      <td>Data Scientist</td>\n",
       "      <td>Stefanini</td>\n",
       "      <td>Noida</td>\n",
       "      <td>3-8 Yrs</td>\n",
       "    </tr>\n",
       "    <tr>\n",
       "      <th>3</th>\n",
       "      <td>Lead Data Scientist - KYC/Fraud/Marketing</td>\n",
       "      <td>Tide Software</td>\n",
       "      <td>New Delhi</td>\n",
       "      <td>1-6 Yrs</td>\n",
       "    </tr>\n",
       "    <tr>\n",
       "      <th>4</th>\n",
       "      <td>Junior Data Scientist - Goods &amp; Service Tax Ne...</td>\n",
       "      <td>NISG (National Institute for Smart Government)</td>\n",
       "      <td>Delhi / NCR</td>\n",
       "      <td>3-8 Yrs</td>\n",
       "    </tr>\n",
       "    <tr>\n",
       "      <th>5</th>\n",
       "      <td>Associate Data Scientist - Java/ Scala/ Apache...</td>\n",
       "      <td>Smart work Consultants</td>\n",
       "      <td>Noida</td>\n",
       "      <td>1-4 Yrs</td>\n",
       "    </tr>\n",
       "    <tr>\n",
       "      <th>6</th>\n",
       "      <td>Data Scientist</td>\n",
       "      <td>Cloudstrats Technologies Private Limited</td>\n",
       "      <td>New Delhi, Delhi / NCR, Mumbai (All Areas)</td>\n",
       "      <td>3-5 Yrs</td>\n",
       "    </tr>\n",
       "    <tr>\n",
       "      <th>7</th>\n",
       "      <td>Data Scientist</td>\n",
       "      <td>Zekardo Automotive Solutions</td>\n",
       "      <td>Gurgaon/Gurugram\\n(WFH during Covid)</td>\n",
       "      <td>5-8 Yrs</td>\n",
       "    </tr>\n",
       "    <tr>\n",
       "      <th>8</th>\n",
       "      <td>Data Scientist</td>\n",
       "      <td>Team Computers Pvt Ltd</td>\n",
       "      <td>New Delhi</td>\n",
       "      <td>2-6 Yrs</td>\n",
       "    </tr>\n",
       "    <tr>\n",
       "      <th>9</th>\n",
       "      <td>Data Scientist / Senior DS/ Team Lead</td>\n",
       "      <td>NebulARC Technologies Private Limited</td>\n",
       "      <td>Mumbai, Gurgaon/Gurugram(Cyber City +1)</td>\n",
       "      <td>0-4 Yrs</td>\n",
       "    </tr>\n",
       "  </tbody>\n",
       "</table>\n",
       "</div>"
      ],
      "text/plain": [
       "                                           Job Title  \\\n",
       "0                         Opening For Data Scientist   \n",
       "1                                  Data Scientist II   \n",
       "2                                     Data Scientist   \n",
       "3          Lead Data Scientist - KYC/Fraud/Marketing   \n",
       "4  Junior Data Scientist - Goods & Service Tax Ne...   \n",
       "5  Associate Data Scientist - Java/ Scala/ Apache...   \n",
       "6                                     Data Scientist   \n",
       "7                                     Data Scientist   \n",
       "8                                     Data Scientist   \n",
       "9              Data Scientist / Senior DS/ Team Lead   \n",
       "\n",
       "                                         Comapany  \\\n",
       "0                           Care Health Insurance   \n",
       "1                                           Chegg   \n",
       "2                                       Stefanini   \n",
       "3                                   Tide Software   \n",
       "4  NISG (National Institute for Smart Government)   \n",
       "5                          Smart work Consultants   \n",
       "6        Cloudstrats Technologies Private Limited   \n",
       "7                    Zekardo Automotive Solutions   \n",
       "8                          Team Computers Pvt Ltd   \n",
       "9           NebulARC Technologies Private Limited   \n",
       "\n",
       "                                     Location Experience  \n",
       "0                            Gurgaon/Gurugram    1-5 Yrs  \n",
       "1                                 Delhi / NCR    2-6 Yrs  \n",
       "2                                       Noida    3-8 Yrs  \n",
       "3                                   New Delhi    1-6 Yrs  \n",
       "4                                 Delhi / NCR    3-8 Yrs  \n",
       "5                                       Noida    1-4 Yrs  \n",
       "6  New Delhi, Delhi / NCR, Mumbai (All Areas)    3-5 Yrs  \n",
       "7        Gurgaon/Gurugram\\n(WFH during Covid)    5-8 Yrs  \n",
       "8                                   New Delhi    2-6 Yrs  \n",
       "9     Mumbai, Gurgaon/Gurugram(Cyber City +1)    0-4 Yrs  "
      ]
     },
     "execution_count": 67,
     "metadata": {},
     "output_type": "execute_result"
    }
   ],
   "source": [
    "job=pd.DataFrame({'Job Title':job_name,'Comapany':company,'Location':location,'Experience':expn})\n",
    "job"
   ]
  },
  {
   "cell_type": "markdown",
   "id": "e04debf9",
   "metadata": {},
   "source": [
    " "
   ]
  },
  {
   "cell_type": "markdown",
   "id": "9f2258a4",
   "metadata": {},
   "source": [
    "## Q4."
   ]
  },
  {
   "cell_type": "markdown",
   "id": "057278c3",
   "metadata": {},
   "source": [
    "In this question we have to scrape brand information of sunglasses from Flipkart."
   ]
  },
  {
   "cell_type": "code",
   "execution_count": 4,
   "id": "75f1871a",
   "metadata": {},
   "outputs": [],
   "source": [
    "#first we will coonect to webdriver using selenium\n",
    "driver = webdriver.Chrome('chromedriver.exe')"
   ]
  },
  {
   "cell_type": "code",
   "execution_count": 5,
   "id": "b21fe975",
   "metadata": {},
   "outputs": [],
   "source": [
    "url = 'https://www.flipkart.com/'\n",
    "driver.get(url)"
   ]
  },
  {
   "cell_type": "code",
   "execution_count": 6,
   "id": "a41218e4",
   "metadata": {},
   "outputs": [
    {
     "data": {
      "text/plain": [
       "<selenium.webdriver.remote.webelement.WebElement (session=\"ee0068ea3f24c9a85eb749a2d0263e4e\", element=\"c1346816-4efc-4908-8ba5-9326356a2b06\")>"
      ]
     },
     "execution_count": 6,
     "metadata": {},
     "output_type": "execute_result"
    }
   ],
   "source": [
    "search_text =driver.find_element_by_class_name('_3704LK')\n",
    "search_text"
   ]
  },
  {
   "cell_type": "code",
   "execution_count": 7,
   "id": "0d0edec9",
   "metadata": {},
   "outputs": [],
   "source": [
    "search_text.send_keys('sunglasses')"
   ]
  },
  {
   "cell_type": "code",
   "execution_count": 8,
   "id": "beb1f769",
   "metadata": {},
   "outputs": [
    {
     "data": {
      "text/plain": [
       "<selenium.webdriver.remote.webelement.WebElement (session=\"ee0068ea3f24c9a85eb749a2d0263e4e\", element=\"b5b82cb2-ae41-47d9-bc12-2bfba64f70fc\")>"
      ]
     },
     "execution_count": 8,
     "metadata": {},
     "output_type": "execute_result"
    }
   ],
   "source": [
    "search_btn = driver.find_element_by_xpath('//button[@class=\"L0Z3Pu\"]')\n",
    "search_btn"
   ]
  },
  {
   "cell_type": "code",
   "execution_count": 9,
   "id": "7b01c63d",
   "metadata": {},
   "outputs": [],
   "source": [
    "search_btn.click()"
   ]
  },
  {
   "cell_type": "markdown",
   "id": "b8e8d6e5",
   "metadata": {},
   "source": [
    "###### Extracting Data "
   ]
  },
  {
   "cell_type": "markdown",
   "id": "1807f83e",
   "metadata": {},
   "source": [
    "We will create 3 empty lists which will store brand name,product discription and price of product."
   ]
  },
  {
   "cell_type": "code",
   "execution_count": 10,
   "id": "6e85051e",
   "metadata": {},
   "outputs": [],
   "source": [
    "product_name=[]\n",
    "discription=[]\n",
    "price=[]"
   ]
  },
  {
   "cell_type": "code",
   "execution_count": 11,
   "id": "2a84c9fc",
   "metadata": {},
   "outputs": [
    {
     "data": {
      "text/plain": [
       "40"
      ]
     },
     "execution_count": 11,
     "metadata": {},
     "output_type": "execute_result"
    }
   ],
   "source": [
    "#extracting web elements which have product name \n",
    "product_tags=driver.find_elements_by_class_name('_2WkVRV')\n",
    "len(product_tags)"
   ]
  },
  {
   "cell_type": "code",
   "execution_count": 12,
   "id": "79927daa",
   "metadata": {},
   "outputs": [
    {
     "data": {
      "text/plain": [
       "40"
      ]
     },
     "execution_count": 12,
     "metadata": {},
     "output_type": "execute_result"
    }
   ],
   "source": [
    "# we will get the names of products from the web elements\n",
    "#we'll be using for loop for that\n",
    "\n",
    "for i in product_tags:\n",
    "    product_name.append(i.text)\n",
    "len(product_name)"
   ]
  },
  {
   "cell_type": "code",
   "execution_count": 13,
   "id": "bc1b8e31",
   "metadata": {},
   "outputs": [
    {
     "data": {
      "text/plain": [
       "40"
      ]
     },
     "execution_count": 13,
     "metadata": {},
     "output_type": "execute_result"
    }
   ],
   "source": [
    "#extracting web elements of product discription\n",
    "dcn_tags = driver.find_elements_by_xpath('//a[@class=\"IRpwTa\"]')\n",
    "len(dcn_tags)"
   ]
  },
  {
   "cell_type": "code",
   "execution_count": 14,
   "id": "70ec133d",
   "metadata": {},
   "outputs": [
    {
     "data": {
      "text/plain": [
       "40"
      ]
     },
     "execution_count": 14,
     "metadata": {},
     "output_type": "execute_result"
    }
   ],
   "source": [
    "#getting product discription from web elements\n",
    "\n",
    "for i in dcn_tags:\n",
    "    discription.append(i.text)\n",
    "len(discription)"
   ]
  },
  {
   "cell_type": "code",
   "execution_count": 15,
   "id": "3c1b59e2",
   "metadata": {},
   "outputs": [
    {
     "data": {
      "text/plain": [
       "40"
      ]
     },
     "execution_count": 15,
     "metadata": {},
     "output_type": "execute_result"
    }
   ],
   "source": [
    "#extracting price web elements\n",
    "price_tags=driver.find_elements_by_xpath('//div[@class=\"_30jeq3\"]')\n",
    "len(price_tags)"
   ]
  },
  {
   "cell_type": "code",
   "execution_count": 16,
   "id": "95e8300b",
   "metadata": {},
   "outputs": [
    {
     "data": {
      "text/plain": [
       "40"
      ]
     },
     "execution_count": 16,
     "metadata": {},
     "output_type": "execute_result"
    }
   ],
   "source": [
    "for i in price_tags:\n",
    "    price.append(i.text)\n",
    "len(price)"
   ]
  },
  {
   "cell_type": "code",
   "execution_count": 31,
   "id": "773e8465",
   "metadata": {},
   "outputs": [
    {
     "data": {
      "text/plain": [
       "<selenium.webdriver.remote.webelement.WebElement (session=\"ee0068ea3f24c9a85eb749a2d0263e4e\", element=\"d2ac9430-a3ba-438a-a90d-bb5858b0039f\")>"
      ]
     },
     "execution_count": 31,
     "metadata": {},
     "output_type": "execute_result"
    }
   ],
   "source": [
    "#Now we will click on next button to navigate on next page\n",
    "next_btn=driver.find_element_by_class_name('_1LKTO3')\n",
    "next_btn"
   ]
  },
  {
   "cell_type": "code",
   "execution_count": 18,
   "id": "6c8114da",
   "metadata": {},
   "outputs": [],
   "source": [
    "next_btn.click()"
   ]
  },
  {
   "cell_type": "code",
   "execution_count": 19,
   "id": "92066095",
   "metadata": {},
   "outputs": [
    {
     "data": {
      "text/plain": [
       "40"
      ]
     },
     "execution_count": 19,
     "metadata": {},
     "output_type": "execute_result"
    }
   ],
   "source": [
    "product_tags=driver.find_elements_by_class_name('_2WkVRV')\n",
    "len(product_tags)"
   ]
  },
  {
   "cell_type": "code",
   "execution_count": 20,
   "id": "aa0ffae2",
   "metadata": {},
   "outputs": [
    {
     "data": {
      "text/plain": [
       "80"
      ]
     },
     "execution_count": 20,
     "metadata": {},
     "output_type": "execute_result"
    }
   ],
   "source": [
    "for i in product_tags:\n",
    "    product_name.append(i.text)\n",
    "len(product_name)"
   ]
  },
  {
   "cell_type": "code",
   "execution_count": 22,
   "id": "a23e9319",
   "metadata": {},
   "outputs": [
    {
     "data": {
      "text/plain": [
       "39"
      ]
     },
     "execution_count": 22,
     "metadata": {},
     "output_type": "execute_result"
    }
   ],
   "source": [
    "dcn_tags = driver.find_elements_by_xpath('//a[@class=\"IRpwTa\"]')\n",
    "len(dcn_tags)"
   ]
  },
  {
   "cell_type": "code",
   "execution_count": 23,
   "id": "8adfbaea",
   "metadata": {},
   "outputs": [
    {
     "data": {
      "text/plain": [
       "79"
      ]
     },
     "execution_count": 23,
     "metadata": {},
     "output_type": "execute_result"
    }
   ],
   "source": [
    "for i in dcn_tags:\n",
    "    discription.append(i.text)\n",
    "len(discription)"
   ]
  },
  {
   "cell_type": "code",
   "execution_count": 24,
   "id": "36532da4",
   "metadata": {},
   "outputs": [
    {
     "data": {
      "text/plain": [
       "40"
      ]
     },
     "execution_count": 24,
     "metadata": {},
     "output_type": "execute_result"
    }
   ],
   "source": [
    "price_tags=driver.find_elements_by_xpath('//div[@class=\"_30jeq3\"]')\n",
    "len(price_tags)"
   ]
  },
  {
   "cell_type": "code",
   "execution_count": 25,
   "id": "9e6e1822",
   "metadata": {},
   "outputs": [
    {
     "data": {
      "text/plain": [
       "80"
      ]
     },
     "execution_count": 25,
     "metadata": {},
     "output_type": "execute_result"
    }
   ],
   "source": [
    "for i in price_tags:\n",
    "    price.append(i.text)\n",
    "len(price)"
   ]
  },
  {
   "cell_type": "markdown",
   "id": "0b4ae7c2",
   "metadata": {},
   "source": [
    "Discription at location 75 id not available adding N.A at that location in that list to make all lists equal length."
   ]
  },
  {
   "cell_type": "code",
   "execution_count": 26,
   "id": "d5169169",
   "metadata": {},
   "outputs": [],
   "source": [
    "discription.insert(75,'N.A.')"
   ]
  },
  {
   "cell_type": "code",
   "execution_count": 28,
   "id": "7544a45d",
   "metadata": {},
   "outputs": [
    {
     "data": {
      "text/plain": [
       "80"
      ]
     },
     "execution_count": 28,
     "metadata": {},
     "output_type": "execute_result"
    }
   ],
   "source": [
    "len(discription)"
   ]
  },
  {
   "cell_type": "code",
   "execution_count": 43,
   "id": "2a133724",
   "metadata": {},
   "outputs": [
    {
     "data": {
      "text/plain": [
       "<selenium.webdriver.remote.webelement.WebElement (session=\"ee0068ea3f24c9a85eb749a2d0263e4e\", element=\"59214f36-1ebf-4936-b973-1499157189fd\")>"
      ]
     },
     "execution_count": 43,
     "metadata": {},
     "output_type": "execute_result"
    }
   ],
   "source": [
    "#Again navigating to next page to get reamaining data\n",
    "next_btn=driver.find_element_by_xpath('/html/body/div[1]/div/div[3]/div[1]/div[2]/div[12]/div/div/nav/a[12]/span')\n",
    "next_btn"
   ]
  },
  {
   "cell_type": "code",
   "execution_count": 44,
   "id": "307d7f5b",
   "metadata": {},
   "outputs": [],
   "source": [
    "next_btn.click()"
   ]
  },
  {
   "cell_type": "code",
   "execution_count": 45,
   "id": "2c97cd38",
   "metadata": {},
   "outputs": [
    {
     "data": {
      "text/plain": [
       "40"
      ]
     },
     "execution_count": 45,
     "metadata": {},
     "output_type": "execute_result"
    }
   ],
   "source": [
    "product_tags=driver.find_elements_by_class_name('_2WkVRV')\n",
    "len(product_tags)"
   ]
  },
  {
   "cell_type": "code",
   "execution_count": 46,
   "id": "e5261907",
   "metadata": {},
   "outputs": [
    {
     "data": {
      "text/plain": [
       "100"
      ]
     },
     "execution_count": 46,
     "metadata": {},
     "output_type": "execute_result"
    }
   ],
   "source": [
    "for i in range(0,20):\n",
    "    product_name.append(product_tags[i].text)\n",
    "len(product_name)"
   ]
  },
  {
   "cell_type": "code",
   "execution_count": 47,
   "id": "bce37566",
   "metadata": {},
   "outputs": [
    {
     "data": {
      "text/plain": [
       "40"
      ]
     },
     "execution_count": 47,
     "metadata": {},
     "output_type": "execute_result"
    }
   ],
   "source": [
    "dcn_tags = driver.find_elements_by_xpath('//a[@class=\"IRpwTa\"]')\n",
    "len(dcn_tags)"
   ]
  },
  {
   "cell_type": "code",
   "execution_count": 48,
   "id": "5081a0be",
   "metadata": {},
   "outputs": [
    {
     "data": {
      "text/plain": [
       "100"
      ]
     },
     "execution_count": 48,
     "metadata": {},
     "output_type": "execute_result"
    }
   ],
   "source": [
    "for i in range(0,20):\n",
    "    discription.append(dcn_tags[i].text)\n",
    "len(discription)"
   ]
  },
  {
   "cell_type": "code",
   "execution_count": 49,
   "id": "e0369834",
   "metadata": {},
   "outputs": [
    {
     "data": {
      "text/plain": [
       "40"
      ]
     },
     "execution_count": 49,
     "metadata": {},
     "output_type": "execute_result"
    }
   ],
   "source": [
    "price_tags=driver.find_elements_by_xpath('//div[@class=\"_30jeq3\"]')\n",
    "len(price_tags)"
   ]
  },
  {
   "cell_type": "code",
   "execution_count": 50,
   "id": "1ed50014",
   "metadata": {},
   "outputs": [
    {
     "data": {
      "text/plain": [
       "100"
      ]
     },
     "execution_count": 50,
     "metadata": {},
     "output_type": "execute_result"
    }
   ],
   "source": [
    "for i in range(0,20):\n",
    "    price.append(price_tags[i].text)\n",
    "len(price)"
   ]
  },
  {
   "cell_type": "code",
   "execution_count": 51,
   "id": "e6f44001",
   "metadata": {},
   "outputs": [],
   "source": [
    "sunglasses = pd.DataFrame()\n",
    "sunglasses['Product Name'] = product_name\n",
    "sunglasses['Discription'] = discription\n",
    "sunglasses['Price'] = price"
   ]
  },
  {
   "cell_type": "code",
   "execution_count": 54,
   "id": "30ca1dd9",
   "metadata": {},
   "outputs": [
    {
     "data": {
      "text/html": [
       "<div>\n",
       "<style scoped>\n",
       "    .dataframe tbody tr th:only-of-type {\n",
       "        vertical-align: middle;\n",
       "    }\n",
       "\n",
       "    .dataframe tbody tr th {\n",
       "        vertical-align: top;\n",
       "    }\n",
       "\n",
       "    .dataframe thead th {\n",
       "        text-align: right;\n",
       "    }\n",
       "</style>\n",
       "<table border=\"1\" class=\"dataframe\">\n",
       "  <thead>\n",
       "    <tr style=\"text-align: right;\">\n",
       "      <th></th>\n",
       "      <th>Product Name</th>\n",
       "      <th>Discription</th>\n",
       "      <th>Price</th>\n",
       "    </tr>\n",
       "  </thead>\n",
       "  <tbody>\n",
       "    <tr>\n",
       "      <th>0</th>\n",
       "      <td>VINCENT CHASE</td>\n",
       "      <td>by Lenskart Polarized, UV Protection Wayfarer ...</td>\n",
       "      <td>₹679</td>\n",
       "    </tr>\n",
       "    <tr>\n",
       "      <th>1</th>\n",
       "      <td>Singco India</td>\n",
       "      <td>Gradient, Toughened Glass Lens, UV Protection ...</td>\n",
       "      <td>₹664</td>\n",
       "    </tr>\n",
       "    <tr>\n",
       "      <th>2</th>\n",
       "      <td>Fastrack</td>\n",
       "      <td>UV Protection Rectangular Sunglasses (Free Size)</td>\n",
       "      <td>₹639</td>\n",
       "    </tr>\n",
       "    <tr>\n",
       "      <th>3</th>\n",
       "      <td>SHAAH COLLECTIONS</td>\n",
       "      <td>UV Protection, Polarized, Mirrored Rectangular...</td>\n",
       "      <td>₹165</td>\n",
       "    </tr>\n",
       "    <tr>\n",
       "      <th>4</th>\n",
       "      <td>SUNBEE</td>\n",
       "      <td>UV Protection, Polarized Wayfarer Sunglasses (...</td>\n",
       "      <td>₹243</td>\n",
       "    </tr>\n",
       "    <tr>\n",
       "      <th>...</th>\n",
       "      <td>...</td>\n",
       "      <td>...</td>\n",
       "      <td>...</td>\n",
       "    </tr>\n",
       "    <tr>\n",
       "      <th>95</th>\n",
       "      <td>elegante</td>\n",
       "      <td>UV Protection Oval Sunglasses (Free Size)</td>\n",
       "      <td>₹389</td>\n",
       "    </tr>\n",
       "    <tr>\n",
       "      <th>96</th>\n",
       "      <td>Johaena</td>\n",
       "      <td>Riding Glasses, UV Protection Oval Sunglasses ...</td>\n",
       "      <td>₹156</td>\n",
       "    </tr>\n",
       "    <tr>\n",
       "      <th>97</th>\n",
       "      <td>Lee Topper</td>\n",
       "      <td>UV Protection Cat-eye Sunglasses (Free Size)</td>\n",
       "      <td>₹281</td>\n",
       "    </tr>\n",
       "    <tr>\n",
       "      <th>98</th>\n",
       "      <td>kingsunglasses</td>\n",
       "      <td>UV Protection Round Sunglasses (Free Size)</td>\n",
       "      <td>₹170</td>\n",
       "    </tr>\n",
       "    <tr>\n",
       "      <th>99</th>\n",
       "      <td>VINCENT CHASE</td>\n",
       "      <td>by Lenskart Polarized, UV Protection Wayfarer ...</td>\n",
       "      <td>₹1,533</td>\n",
       "    </tr>\n",
       "  </tbody>\n",
       "</table>\n",
       "<p>100 rows × 3 columns</p>\n",
       "</div>"
      ],
      "text/plain": [
       "         Product Name                                        Discription  \\\n",
       "0       VINCENT CHASE  by Lenskart Polarized, UV Protection Wayfarer ...   \n",
       "1        Singco India  Gradient, Toughened Glass Lens, UV Protection ...   \n",
       "2            Fastrack   UV Protection Rectangular Sunglasses (Free Size)   \n",
       "3   SHAAH COLLECTIONS  UV Protection, Polarized, Mirrored Rectangular...   \n",
       "4              SUNBEE  UV Protection, Polarized Wayfarer Sunglasses (...   \n",
       "..                ...                                                ...   \n",
       "95           elegante          UV Protection Oval Sunglasses (Free Size)   \n",
       "96            Johaena  Riding Glasses, UV Protection Oval Sunglasses ...   \n",
       "97         Lee Topper       UV Protection Cat-eye Sunglasses (Free Size)   \n",
       "98     kingsunglasses         UV Protection Round Sunglasses (Free Size)   \n",
       "99      VINCENT CHASE  by Lenskart Polarized, UV Protection Wayfarer ...   \n",
       "\n",
       "     Price  \n",
       "0     ₹679  \n",
       "1     ₹664  \n",
       "2     ₹639  \n",
       "3     ₹165  \n",
       "4     ₹243  \n",
       "..     ...  \n",
       "95    ₹389  \n",
       "96    ₹156  \n",
       "97    ₹281  \n",
       "98    ₹170  \n",
       "99  ₹1,533  \n",
       "\n",
       "[100 rows x 3 columns]"
      ]
     },
     "execution_count": 54,
     "metadata": {},
     "output_type": "execute_result"
    }
   ],
   "source": [
    "sunglasses"
   ]
  },
  {
   "cell_type": "markdown",
   "id": "ed6a0117",
   "metadata": {},
   "source": [
    " "
   ]
  },
  {
   "cell_type": "markdown",
   "id": "c7853e5e",
   "metadata": {},
   "source": [
    "## Q5."
   ]
  },
  {
   "cell_type": "code",
   "execution_count": 2,
   "id": "6262cbb1",
   "metadata": {},
   "outputs": [],
   "source": [
    "#staring web driver\n",
    "driver = webdriver.Chrome('chromedriver.exe')"
   ]
  },
  {
   "cell_type": "code",
   "execution_count": 3,
   "id": "0f95f6f0",
   "metadata": {},
   "outputs": [],
   "source": [
    "url='https://www.flipkart.com/apple-iphone-11-black-64-gb-includes-earpods-power-adapter/p/itm0f37c2240b217?pid=MOBFKCTSVZAXUHGR&lid=LSTMOBFKC'\n",
    "driver.get(url)"
   ]
  },
  {
   "cell_type": "markdown",
   "id": "53ac8f5e",
   "metadata": {},
   "source": [
    "###### Extracting the Data"
   ]
  },
  {
   "cell_type": "markdown",
   "id": "8311f91c",
   "metadata": {},
   "source": [
    "we'll first declare empty list is which we store extracted data"
   ]
  },
  {
   "cell_type": "code",
   "execution_count": 4,
   "id": "f7c594bf",
   "metadata": {},
   "outputs": [],
   "source": [
    "rating =[]\n",
    "review = []\n",
    "full_review = []"
   ]
  },
  {
   "cell_type": "code",
   "execution_count": 6,
   "id": "3d11e957",
   "metadata": {},
   "outputs": [],
   "source": [
    "all_reviews =driver.find_element_by_xpath('/html/body/div[1]/div/div[3]/div[1]/div[2]/div[9]/div/div/div[5]/div/a/div/span')\n",
    "all_reviews.click()"
   ]
  },
  {
   "cell_type": "code",
   "execution_count": 7,
   "id": "13b0c354",
   "metadata": {},
   "outputs": [
    {
     "data": {
      "text/plain": [
       "10"
      ]
     },
     "execution_count": 7,
     "metadata": {},
     "output_type": "execute_result"
    }
   ],
   "source": [
    "rating_tags=driver.find_elements_by_xpath('//div[@class=\"_3LWZlK _1BLPMq\"]')\n",
    "len(rating_tags)"
   ]
  },
  {
   "cell_type": "code",
   "execution_count": 8,
   "id": "e58311c8",
   "metadata": {},
   "outputs": [
    {
     "data": {
      "text/plain": [
       "10"
      ]
     },
     "execution_count": 8,
     "metadata": {},
     "output_type": "execute_result"
    }
   ],
   "source": [
    "for i in rating_tags:\n",
    "    rating.append(i.text)\n",
    "len(rating)"
   ]
  },
  {
   "cell_type": "code",
   "execution_count": 9,
   "id": "161438f3",
   "metadata": {},
   "outputs": [
    {
     "data": {
      "text/plain": [
       "10"
      ]
     },
     "execution_count": 9,
     "metadata": {},
     "output_type": "execute_result"
    }
   ],
   "source": [
    "review_tags = driver.find_elements_by_xpath('//p[@class=\"_2-N8zT\"]')\n",
    "len(review_tags)"
   ]
  },
  {
   "cell_type": "code",
   "execution_count": 10,
   "id": "dd7668c4",
   "metadata": {},
   "outputs": [
    {
     "data": {
      "text/plain": [
       "10"
      ]
     },
     "execution_count": 10,
     "metadata": {},
     "output_type": "execute_result"
    }
   ],
   "source": [
    "for i in review_tags:\n",
    "    review.append(i.text)\n",
    "len(review)"
   ]
  },
  {
   "cell_type": "code",
   "execution_count": 11,
   "id": "c342bd38",
   "metadata": {},
   "outputs": [
    {
     "data": {
      "text/plain": [
       "10"
      ]
     },
     "execution_count": 11,
     "metadata": {},
     "output_type": "execute_result"
    }
   ],
   "source": [
    "full_rev_tags = driver.find_elements_by_xpath('//div[@class=\"t-ZTKy\"]')\n",
    "len(full_rev_tags)"
   ]
  },
  {
   "cell_type": "code",
   "execution_count": 12,
   "id": "2cea02cd",
   "metadata": {
    "code_folding": []
   },
   "outputs": [
    {
     "data": {
      "text/plain": [
       "10"
      ]
     },
     "execution_count": 12,
     "metadata": {},
     "output_type": "execute_result"
    }
   ],
   "source": [
    "for i in full_rev_tags:\n",
    "    full_review.append(i.text)\n",
    "len(full_review)"
   ]
  },
  {
   "cell_type": "code",
   "execution_count": 13,
   "id": "2c7c5c30",
   "metadata": {},
   "outputs": [],
   "source": [
    "next_btn=driver.find_element_by_xpath('/html/body/div[1]/div/div[3]/div/div/div[2]/div[13]/div/div/nav/a[11]/span')\n",
    "next_btn.click()"
   ]
  },
  {
   "cell_type": "code",
   "execution_count": 14,
   "id": "3d95f039",
   "metadata": {},
   "outputs": [
    {
     "data": {
      "text/plain": [
       "20"
      ]
     },
     "execution_count": 14,
     "metadata": {},
     "output_type": "execute_result"
    }
   ],
   "source": [
    "rating_tags=driver.find_elements_by_xpath('//div[@class=\"_3LWZlK _1BLPMq\"]')\n",
    "for i in rating_tags:\n",
    "    rating.append(i.text)\n",
    "len(rating)"
   ]
  },
  {
   "cell_type": "code",
   "execution_count": 15,
   "id": "bf1ddeb0",
   "metadata": {},
   "outputs": [
    {
     "data": {
      "text/plain": [
       "20"
      ]
     },
     "execution_count": 15,
     "metadata": {},
     "output_type": "execute_result"
    }
   ],
   "source": [
    "review_tags = driver.find_elements_by_xpath('//p[@class=\"_2-N8zT\"]')\n",
    "for i in review_tags:\n",
    "    review.append(i.text)\n",
    "len(review)"
   ]
  },
  {
   "cell_type": "code",
   "execution_count": 16,
   "id": "812f10e6",
   "metadata": {},
   "outputs": [
    {
     "data": {
      "text/plain": [
       "20"
      ]
     },
     "execution_count": 16,
     "metadata": {},
     "output_type": "execute_result"
    }
   ],
   "source": [
    "full_rev_tags = driver.find_elements_by_xpath('//div[@class=\"t-ZTKy\"]')\n",
    "for i in full_rev_tags:\n",
    "    full_review.append(i.text)\n",
    "len(full_review)"
   ]
  },
  {
   "cell_type": "code",
   "execution_count": 17,
   "id": "8587d294",
   "metadata": {},
   "outputs": [],
   "source": [
    "next_btn=driver.find_element_by_xpath('/html/body/div[1]/div/div[3]/div/div/div[2]/div[13]/div/div/nav/a[12]/span')\n",
    "next_btn.click()"
   ]
  },
  {
   "cell_type": "code",
   "execution_count": 18,
   "id": "d92084b0",
   "metadata": {},
   "outputs": [
    {
     "data": {
      "text/plain": [
       "29"
      ]
     },
     "execution_count": 18,
     "metadata": {},
     "output_type": "execute_result"
    }
   ],
   "source": [
    "rating_tags=driver.find_elements_by_xpath('//div[@class=\"_3LWZlK _1BLPMq\"]')\n",
    "for i in rating_tags:\n",
    "    rating.append(i.text)\n",
    "len(rating)"
   ]
  },
  {
   "cell_type": "code",
   "execution_count": 19,
   "id": "8a667e39",
   "metadata": {},
   "outputs": [
    {
     "data": {
      "text/plain": [
       "30"
      ]
     },
     "execution_count": 19,
     "metadata": {},
     "output_type": "execute_result"
    }
   ],
   "source": [
    "review_tags = driver.find_elements_by_xpath('//p[@class=\"_2-N8zT\"]')\n",
    "for i in review_tags:\n",
    "    review.append(i.text)\n",
    "len(review)"
   ]
  },
  {
   "cell_type": "code",
   "execution_count": 20,
   "id": "903ac253",
   "metadata": {},
   "outputs": [],
   "source": [
    "#inserting poor rating at its location as it has different class \n",
    "rt =driver.find_element_by_xpath('/html/body/div[1]/div/div[3]/div/div/div[2]/div[10]/div/div/div/div[1]/div')\n",
    "rating.insert(27,rt.text)"
   ]
  },
  {
   "cell_type": "code",
   "execution_count": 22,
   "id": "69f61c03",
   "metadata": {},
   "outputs": [
    {
     "data": {
      "text/plain": [
       "30"
      ]
     },
     "execution_count": 22,
     "metadata": {},
     "output_type": "execute_result"
    }
   ],
   "source": [
    "len(rating)"
   ]
  },
  {
   "cell_type": "code",
   "execution_count": 23,
   "id": "331067a7",
   "metadata": {},
   "outputs": [
    {
     "data": {
      "text/plain": [
       "30"
      ]
     },
     "execution_count": 23,
     "metadata": {},
     "output_type": "execute_result"
    }
   ],
   "source": [
    "full_rev_tags = driver.find_elements_by_xpath('//div[@class=\"t-ZTKy\"]')\n",
    "for i in full_rev_tags:\n",
    "    full_review.append(i.text)\n",
    "len(full_review)"
   ]
  },
  {
   "cell_type": "code",
   "execution_count": 24,
   "id": "6590f909",
   "metadata": {},
   "outputs": [],
   "source": [
    "next_btn=driver.find_element_by_xpath('/html/body/div[1]/div/div[3]/div/div/div[2]/div[13]/div/div/nav/a[12]/span')\n",
    "next_btn.click()"
   ]
  },
  {
   "cell_type": "code",
   "execution_count": 25,
   "id": "165344db",
   "metadata": {},
   "outputs": [
    {
     "data": {
      "text/plain": [
       "39"
      ]
     },
     "execution_count": 25,
     "metadata": {},
     "output_type": "execute_result"
    }
   ],
   "source": [
    "rating_tags=driver.find_elements_by_xpath('//div[@class=\"_3LWZlK _1BLPMq\"]')\n",
    "for i in rating_tags:\n",
    "    rating.append(i.text)\n",
    "len(rating)"
   ]
  },
  {
   "cell_type": "code",
   "execution_count": 26,
   "id": "dce47f30",
   "metadata": {},
   "outputs": [],
   "source": [
    "rt=driver.find_element_by_xpath('//div[@class=\"_3LWZlK _1rdVr6 _1BLPMq\"]')\n",
    "rating.append(rt.text)"
   ]
  },
  {
   "cell_type": "code",
   "execution_count": 27,
   "id": "f11e18ce",
   "metadata": {},
   "outputs": [
    {
     "data": {
      "text/plain": [
       "40"
      ]
     },
     "execution_count": 27,
     "metadata": {},
     "output_type": "execute_result"
    }
   ],
   "source": [
    "len(rating)"
   ]
  },
  {
   "cell_type": "code",
   "execution_count": 28,
   "id": "f37499c1",
   "metadata": {},
   "outputs": [
    {
     "data": {
      "text/plain": [
       "40"
      ]
     },
     "execution_count": 28,
     "metadata": {},
     "output_type": "execute_result"
    }
   ],
   "source": [
    "review_tags = driver.find_elements_by_xpath('//p[@class=\"_2-N8zT\"]')\n",
    "for i in review_tags:\n",
    "    review.append(i.text)\n",
    "len(review)"
   ]
  },
  {
   "cell_type": "code",
   "execution_count": 29,
   "id": "0320e01e",
   "metadata": {},
   "outputs": [
    {
     "data": {
      "text/plain": [
       "40"
      ]
     },
     "execution_count": 29,
     "metadata": {},
     "output_type": "execute_result"
    }
   ],
   "source": [
    "full_rev_tags = driver.find_elements_by_xpath('//div[@class=\"t-ZTKy\"]')\n",
    "for i in full_rev_tags:\n",
    "    full_review.append(i.text)\n",
    "len(full_review)"
   ]
  },
  {
   "cell_type": "code",
   "execution_count": 30,
   "id": "2ed4df39",
   "metadata": {},
   "outputs": [],
   "source": [
    "next_btn=driver.find_element_by_xpath('/html/body/div[1]/div/div[3]/div/div/div[2]/div[13]/div/div/nav/a[12]/span')\n",
    "next_btn.click()"
   ]
  },
  {
   "cell_type": "code",
   "execution_count": 31,
   "id": "4489de4c",
   "metadata": {},
   "outputs": [
    {
     "data": {
      "text/plain": [
       "49"
      ]
     },
     "execution_count": 31,
     "metadata": {},
     "output_type": "execute_result"
    }
   ],
   "source": [
    "rating_tags=driver.find_elements_by_xpath('//div[@class=\"_3LWZlK _1BLPMq\"]')\n",
    "for i in rating_tags:\n",
    "    rating.append(i.text)\n",
    "len(rating)"
   ]
  },
  {
   "cell_type": "code",
   "execution_count": 32,
   "id": "164baa66",
   "metadata": {},
   "outputs": [],
   "source": [
    "rt = driver.find_element_by_xpath('//div[@class=\"_3LWZlK _1rdVr6 _1BLPMq\"]')\n",
    "rating.insert(44,rt.text)"
   ]
  },
  {
   "cell_type": "code",
   "execution_count": 33,
   "id": "7ff489e9",
   "metadata": {},
   "outputs": [
    {
     "data": {
      "text/plain": [
       "50"
      ]
     },
     "execution_count": 33,
     "metadata": {},
     "output_type": "execute_result"
    }
   ],
   "source": [
    "len(rating)"
   ]
  },
  {
   "cell_type": "code",
   "execution_count": 34,
   "id": "17c1d4dd",
   "metadata": {},
   "outputs": [
    {
     "data": {
      "text/plain": [
       "50"
      ]
     },
     "execution_count": 34,
     "metadata": {},
     "output_type": "execute_result"
    }
   ],
   "source": [
    "review_tags = driver.find_elements_by_xpath('//p[@class=\"_2-N8zT\"]')\n",
    "for i in review_tags:\n",
    "    review.append(i.text)\n",
    "len(review)"
   ]
  },
  {
   "cell_type": "code",
   "execution_count": 35,
   "id": "9ea072e3",
   "metadata": {},
   "outputs": [
    {
     "data": {
      "text/plain": [
       "50"
      ]
     },
     "execution_count": 35,
     "metadata": {},
     "output_type": "execute_result"
    }
   ],
   "source": [
    "full_rev_tags = driver.find_elements_by_xpath('//div[@class=\"t-ZTKy\"]')\n",
    "for i in full_rev_tags:\n",
    "    full_review.append(i.text)\n",
    "len(full_review)"
   ]
  },
  {
   "cell_type": "code",
   "execution_count": 36,
   "id": "24593004",
   "metadata": {},
   "outputs": [],
   "source": [
    "next_btn=driver.find_element_by_xpath('/html/body/div[1]/div/div[3]/div/div/div[2]/div[13]/div/div/nav/a[12]/span')\n",
    "next_btn.click()"
   ]
  },
  {
   "cell_type": "code",
   "execution_count": 37,
   "id": "850e270f",
   "metadata": {},
   "outputs": [
    {
     "data": {
      "text/plain": [
       "60"
      ]
     },
     "execution_count": 37,
     "metadata": {},
     "output_type": "execute_result"
    }
   ],
   "source": [
    "rating_tags=driver.find_elements_by_xpath('//div[@class=\"_3LWZlK _1BLPMq\"]')\n",
    "for i in rating_tags:\n",
    "    rating.append(i.text)\n",
    "len(rating)"
   ]
  },
  {
   "cell_type": "code",
   "execution_count": 38,
   "id": "91a5b8b3",
   "metadata": {},
   "outputs": [
    {
     "data": {
      "text/plain": [
       "60"
      ]
     },
     "execution_count": 38,
     "metadata": {},
     "output_type": "execute_result"
    }
   ],
   "source": [
    "review_tags = driver.find_elements_by_xpath('//p[@class=\"_2-N8zT\"]')\n",
    "for i in review_tags:\n",
    "    review.append(i.text)\n",
    "len(review)"
   ]
  },
  {
   "cell_type": "code",
   "execution_count": 39,
   "id": "62398b0f",
   "metadata": {},
   "outputs": [
    {
     "data": {
      "text/plain": [
       "60"
      ]
     },
     "execution_count": 39,
     "metadata": {},
     "output_type": "execute_result"
    }
   ],
   "source": [
    "full_rev_tags = driver.find_elements_by_xpath('//div[@class=\"t-ZTKy\"]')\n",
    "for i in full_rev_tags:\n",
    "    full_review.append(i.text)\n",
    "len(full_review)"
   ]
  },
  {
   "cell_type": "code",
   "execution_count": 40,
   "id": "ace07049",
   "metadata": {},
   "outputs": [],
   "source": [
    "next_btn=driver.find_element_by_xpath('/html/body/div[1]/div/div[3]/div/div/div[2]/div[13]/div/div/nav/a[12]/span')\n",
    "next_btn.click()"
   ]
  },
  {
   "cell_type": "code",
   "execution_count": 41,
   "id": "830a06c2",
   "metadata": {},
   "outputs": [
    {
     "data": {
      "text/plain": [
       "70"
      ]
     },
     "execution_count": 41,
     "metadata": {},
     "output_type": "execute_result"
    }
   ],
   "source": [
    "rating_tags=driver.find_elements_by_xpath('//div[@class=\"_3LWZlK _1BLPMq\"]')\n",
    "for i in rating_tags:\n",
    "    rating.append(i.text)\n",
    "len(rating)"
   ]
  },
  {
   "cell_type": "code",
   "execution_count": 42,
   "id": "c046c53c",
   "metadata": {},
   "outputs": [
    {
     "data": {
      "text/plain": [
       "70"
      ]
     },
     "execution_count": 42,
     "metadata": {},
     "output_type": "execute_result"
    }
   ],
   "source": [
    "review_tags = driver.find_elements_by_xpath('//p[@class=\"_2-N8zT\"]')\n",
    "for i in review_tags:\n",
    "    review.append(i.text)\n",
    "len(review)"
   ]
  },
  {
   "cell_type": "code",
   "execution_count": 43,
   "id": "5b293fab",
   "metadata": {},
   "outputs": [
    {
     "data": {
      "text/plain": [
       "70"
      ]
     },
     "execution_count": 43,
     "metadata": {},
     "output_type": "execute_result"
    }
   ],
   "source": [
    "full_rev_tags = driver.find_elements_by_xpath('//div[@class=\"t-ZTKy\"]')\n",
    "for i in full_rev_tags:\n",
    "    full_review.append(i.text)\n",
    "len(full_review)"
   ]
  },
  {
   "cell_type": "code",
   "execution_count": 44,
   "id": "e0d1f7b1",
   "metadata": {},
   "outputs": [],
   "source": [
    "next_btn=driver.find_element_by_xpath('/html/body/div[1]/div/div[3]/div/div/div[2]/div[13]/div/div/nav/a[12]/span')\n",
    "next_btn.click()"
   ]
  },
  {
   "cell_type": "code",
   "execution_count": 45,
   "id": "90419131",
   "metadata": {},
   "outputs": [
    {
     "data": {
      "text/plain": [
       "78"
      ]
     },
     "execution_count": 45,
     "metadata": {},
     "output_type": "execute_result"
    }
   ],
   "source": [
    "rating_tags=driver.find_elements_by_xpath('//div[@class=\"_3LWZlK _1BLPMq\"]')\n",
    "for i in rating_tags:\n",
    "    rating.append(i.text)\n",
    "len(rating)"
   ]
  },
  {
   "cell_type": "code",
   "execution_count": 46,
   "id": "522f0662",
   "metadata": {},
   "outputs": [
    {
     "data": {
      "text/plain": [
       "2"
      ]
     },
     "execution_count": 46,
     "metadata": {},
     "output_type": "execute_result"
    }
   ],
   "source": [
    "rt =driver.find_elements_by_xpath('//div[@class=\"_3LWZlK _1rdVr6 _1BLPMq\"]')\n",
    "len(rt)"
   ]
  },
  {
   "cell_type": "code",
   "execution_count": 47,
   "id": "ba51cb79",
   "metadata": {},
   "outputs": [],
   "source": [
    "rating.insert(71,rt[0].text)\n",
    "rating.insert(74,rt[1].text)"
   ]
  },
  {
   "cell_type": "code",
   "execution_count": 48,
   "id": "fced6820",
   "metadata": {},
   "outputs": [
    {
     "data": {
      "text/plain": [
       "80"
      ]
     },
     "execution_count": 48,
     "metadata": {},
     "output_type": "execute_result"
    }
   ],
   "source": [
    "len(rating)"
   ]
  },
  {
   "cell_type": "code",
   "execution_count": 49,
   "id": "906327f5",
   "metadata": {},
   "outputs": [
    {
     "data": {
      "text/plain": [
       "80"
      ]
     },
     "execution_count": 49,
     "metadata": {},
     "output_type": "execute_result"
    }
   ],
   "source": [
    "review_tags = driver.find_elements_by_xpath('//p[@class=\"_2-N8zT\"]')\n",
    "for i in review_tags:\n",
    "    review.append(i.text)\n",
    "len(review)"
   ]
  },
  {
   "cell_type": "code",
   "execution_count": 50,
   "id": "a23058e4",
   "metadata": {},
   "outputs": [
    {
     "data": {
      "text/plain": [
       "80"
      ]
     },
     "execution_count": 50,
     "metadata": {},
     "output_type": "execute_result"
    }
   ],
   "source": [
    "full_rev_tags = driver.find_elements_by_xpath('//div[@class=\"t-ZTKy\"]')\n",
    "for i in full_rev_tags:\n",
    "    full_review.append(i.text)\n",
    "len(full_review)"
   ]
  },
  {
   "cell_type": "code",
   "execution_count": 51,
   "id": "eec061e0",
   "metadata": {},
   "outputs": [],
   "source": [
    "next_btn=driver.find_element_by_xpath('/html/body/div[1]/div/div[3]/div/div/div[2]/div[13]/div/div/nav/a[12]/span')\n",
    "next_btn.click()"
   ]
  },
  {
   "cell_type": "code",
   "execution_count": 52,
   "id": "b3d82f33",
   "metadata": {},
   "outputs": [
    {
     "data": {
      "text/plain": [
       "90"
      ]
     },
     "execution_count": 52,
     "metadata": {},
     "output_type": "execute_result"
    }
   ],
   "source": [
    "rating_tags=driver.find_elements_by_xpath('//div[@class=\"_3LWZlK _1BLPMq\"]')\n",
    "for i in rating_tags:\n",
    "    rating.append(i.text)\n",
    "len(rating)"
   ]
  },
  {
   "cell_type": "code",
   "execution_count": 53,
   "id": "720d1c9f",
   "metadata": {},
   "outputs": [
    {
     "data": {
      "text/plain": [
       "90"
      ]
     },
     "execution_count": 53,
     "metadata": {},
     "output_type": "execute_result"
    }
   ],
   "source": [
    "review_tags = driver.find_elements_by_xpath('//p[@class=\"_2-N8zT\"]')\n",
    "for i in review_tags:\n",
    "    review.append(i.text)\n",
    "len(review)"
   ]
  },
  {
   "cell_type": "code",
   "execution_count": 54,
   "id": "0877fbe4",
   "metadata": {},
   "outputs": [
    {
     "data": {
      "text/plain": [
       "90"
      ]
     },
     "execution_count": 54,
     "metadata": {},
     "output_type": "execute_result"
    }
   ],
   "source": [
    "full_rev_tags = driver.find_elements_by_xpath('//div[@class=\"t-ZTKy\"]')\n",
    "for i in full_rev_tags:\n",
    "    full_review.append(i.text)\n",
    "len(full_review)"
   ]
  },
  {
   "cell_type": "code",
   "execution_count": 55,
   "id": "358f0136",
   "metadata": {},
   "outputs": [],
   "source": [
    "next_btn=driver.find_element_by_xpath('/html/body/div[1]/div/div[3]/div/div/div[2]/div[13]/div/div/nav/a[12]/span')\n",
    "next_btn.click()"
   ]
  },
  {
   "cell_type": "code",
   "execution_count": 56,
   "id": "b1d67c21",
   "metadata": {},
   "outputs": [
    {
     "data": {
      "text/plain": [
       "99"
      ]
     },
     "execution_count": 56,
     "metadata": {},
     "output_type": "execute_result"
    }
   ],
   "source": [
    "rating_tags=driver.find_elements_by_xpath('//div[@class=\"_3LWZlK _1BLPMq\"]')\n",
    "for i in rating_tags:\n",
    "    rating.append(i.text)\n",
    "len(rating)"
   ]
  },
  {
   "cell_type": "code",
   "execution_count": 57,
   "id": "06039165",
   "metadata": {},
   "outputs": [
    {
     "data": {
      "text/plain": [
       "100"
      ]
     },
     "execution_count": 57,
     "metadata": {},
     "output_type": "execute_result"
    }
   ],
   "source": [
    "rt =driver.find_element_by_xpath('//div[@class=\"_3LWZlK _1rdVr6 _1BLPMq\"]')\n",
    "rating.insert(94,rt.text)\n",
    "len(rating)"
   ]
  },
  {
   "cell_type": "code",
   "execution_count": 58,
   "id": "d64e0f0b",
   "metadata": {},
   "outputs": [
    {
     "data": {
      "text/plain": [
       "100"
      ]
     },
     "execution_count": 58,
     "metadata": {},
     "output_type": "execute_result"
    }
   ],
   "source": [
    "review_tags = driver.find_elements_by_xpath('//p[@class=\"_2-N8zT\"]')\n",
    "for i in review_tags:\n",
    "    review.append(i.text)\n",
    "len(review)"
   ]
  },
  {
   "cell_type": "code",
   "execution_count": 59,
   "id": "8105d49d",
   "metadata": {},
   "outputs": [
    {
     "data": {
      "text/plain": [
       "100"
      ]
     },
     "execution_count": 59,
     "metadata": {},
     "output_type": "execute_result"
    }
   ],
   "source": [
    "full_rev_tags = driver.find_elements_by_xpath('//div[@class=\"t-ZTKy\"]')\n",
    "for i in full_rev_tags:\n",
    "    full_review.append(i.text)\n",
    "len(full_review)"
   ]
  },
  {
   "cell_type": "code",
   "execution_count": 60,
   "id": "a5644f27",
   "metadata": {},
   "outputs": [
    {
     "data": {
      "text/html": [
       "<div>\n",
       "<style scoped>\n",
       "    .dataframe tbody tr th:only-of-type {\n",
       "        vertical-align: middle;\n",
       "    }\n",
       "\n",
       "    .dataframe tbody tr th {\n",
       "        vertical-align: top;\n",
       "    }\n",
       "\n",
       "    .dataframe thead th {\n",
       "        text-align: right;\n",
       "    }\n",
       "</style>\n",
       "<table border=\"1\" class=\"dataframe\">\n",
       "  <thead>\n",
       "    <tr style=\"text-align: right;\">\n",
       "      <th></th>\n",
       "      <th>Rating</th>\n",
       "      <th>Review</th>\n",
       "      <th>Full Review</th>\n",
       "    </tr>\n",
       "  </thead>\n",
       "  <tbody>\n",
       "    <tr>\n",
       "      <th>0</th>\n",
       "      <td>5</td>\n",
       "      <td>Brilliant</td>\n",
       "      <td>The Best Phone for the Money\\n\\nThe iPhone 11 ...</td>\n",
       "    </tr>\n",
       "    <tr>\n",
       "      <th>1</th>\n",
       "      <td>5</td>\n",
       "      <td>Simply awesome</td>\n",
       "      <td>Really satisfied with the Product I received.....</td>\n",
       "    </tr>\n",
       "    <tr>\n",
       "      <th>2</th>\n",
       "      <td>5</td>\n",
       "      <td>Best in the market!</td>\n",
       "      <td>Great iPhone very snappy experience as apple k...</td>\n",
       "    </tr>\n",
       "    <tr>\n",
       "      <th>3</th>\n",
       "      <td>5</td>\n",
       "      <td>Perfect product!</td>\n",
       "      <td>Amazing phone with great cameras and better ba...</td>\n",
       "    </tr>\n",
       "    <tr>\n",
       "      <th>4</th>\n",
       "      <td>5</td>\n",
       "      <td>Worth every penny</td>\n",
       "      <td>Previously I was using one plus 3t it was a gr...</td>\n",
       "    </tr>\n",
       "    <tr>\n",
       "      <th>...</th>\n",
       "      <td>...</td>\n",
       "      <td>...</td>\n",
       "      <td>...</td>\n",
       "    </tr>\n",
       "    <tr>\n",
       "      <th>95</th>\n",
       "      <td>5</td>\n",
       "      <td>Terrific</td>\n",
       "      <td>I got this beast today. And I must say the pic...</td>\n",
       "    </tr>\n",
       "    <tr>\n",
       "      <th>96</th>\n",
       "      <td>5</td>\n",
       "      <td>Highly recommended</td>\n",
       "      <td>Amazing camera quality as expected, battery al...</td>\n",
       "    </tr>\n",
       "    <tr>\n",
       "      <th>97</th>\n",
       "      <td>5</td>\n",
       "      <td>Must buy!</td>\n",
       "      <td>Dear friends... I want to share my experience ...</td>\n",
       "    </tr>\n",
       "    <tr>\n",
       "      <th>98</th>\n",
       "      <td>5</td>\n",
       "      <td>Must buy!</td>\n",
       "      <td>Camera is excellent just lack of telephoto mod...</td>\n",
       "    </tr>\n",
       "    <tr>\n",
       "      <th>99</th>\n",
       "      <td>5</td>\n",
       "      <td>Excellent</td>\n",
       "      <td>It was amazing experience for me. Honestly i a...</td>\n",
       "    </tr>\n",
       "  </tbody>\n",
       "</table>\n",
       "<p>100 rows × 3 columns</p>\n",
       "</div>"
      ],
      "text/plain": [
       "   Rating               Review  \\\n",
       "0       5            Brilliant   \n",
       "1       5       Simply awesome   \n",
       "2       5  Best in the market!   \n",
       "3       5     Perfect product!   \n",
       "4       5    Worth every penny   \n",
       "..    ...                  ...   \n",
       "95      5             Terrific   \n",
       "96      5   Highly recommended   \n",
       "97      5            Must buy!   \n",
       "98      5            Must buy!   \n",
       "99      5            Excellent   \n",
       "\n",
       "                                          Full Review  \n",
       "0   The Best Phone for the Money\\n\\nThe iPhone 11 ...  \n",
       "1   Really satisfied with the Product I received.....  \n",
       "2   Great iPhone very snappy experience as apple k...  \n",
       "3   Amazing phone with great cameras and better ba...  \n",
       "4   Previously I was using one plus 3t it was a gr...  \n",
       "..                                                ...  \n",
       "95  I got this beast today. And I must say the pic...  \n",
       "96  Amazing camera quality as expected, battery al...  \n",
       "97  Dear friends... I want to share my experience ...  \n",
       "98  Camera is excellent just lack of telephoto mod...  \n",
       "99  It was amazing experience for me. Honestly i a...  \n",
       "\n",
       "[100 rows x 3 columns]"
      ]
     },
     "execution_count": 60,
     "metadata": {},
     "output_type": "execute_result"
    }
   ],
   "source": [
    "#creating dataframe of extracted data\n",
    "Iphone_reviews =pd.DataFrame()\n",
    "Iphone_reviews['Rating']=rating\n",
    "Iphone_reviews['Review']=review\n",
    "Iphone_reviews['Full Review']=full_review\n",
    "Iphone_reviews"
   ]
  },
  {
   "cell_type": "markdown",
   "id": "c0b12a39",
   "metadata": {},
   "source": [
    " "
   ]
  },
  {
   "cell_type": "markdown",
   "id": "02870962",
   "metadata": {},
   "source": [
    "## Q6."
   ]
  },
  {
   "cell_type": "code",
   "execution_count": 2,
   "id": "7b18df77",
   "metadata": {},
   "outputs": [],
   "source": [
    "driver=webdriver.Chrome('chromedriver.exe')"
   ]
  },
  {
   "cell_type": "code",
   "execution_count": 67,
   "id": "a71d72c9",
   "metadata": {},
   "outputs": [],
   "source": [
    "driver.get('https://www.flipkart.com/')"
   ]
  },
  {
   "cell_type": "code",
   "execution_count": 68,
   "id": "be9d049c",
   "metadata": {},
   "outputs": [
    {
     "data": {
      "text/plain": [
       "<selenium.webdriver.remote.webelement.WebElement (session=\"a0ee56ee77b3aa07645eebe945cee337\", element=\"56949168-ee3b-464d-ada5-41c8d78c4758\")>"
      ]
     },
     "execution_count": 68,
     "metadata": {},
     "output_type": "execute_result"
    }
   ],
   "source": [
    "search_tab=driver.find_element_by_class_name('_3704LK')\n",
    "search_tab"
   ]
  },
  {
   "cell_type": "code",
   "execution_count": 70,
   "id": "260c2b9d",
   "metadata": {},
   "outputs": [],
   "source": [
    "search_tab.send_keys('sneakers')"
   ]
  },
  {
   "cell_type": "code",
   "execution_count": 74,
   "id": "dda69863",
   "metadata": {},
   "outputs": [],
   "source": [
    "search_btn=driver.find_element_by_xpath('//button[@class=\"L0Z3Pu\"]')\n",
    "search_btn.click()"
   ]
  },
  {
   "cell_type": "markdown",
   "id": "15c039bf",
   "metadata": {},
   "source": [
    "###### Extracting the Data\n",
    "First,we'll declare 4 lists in which we store extracted data"
   ]
  },
  {
   "cell_type": "code",
   "execution_count": 75,
   "id": "6bc075f3",
   "metadata": {},
   "outputs": [],
   "source": [
    "brand =[]\n",
    "discription =[]\n",
    "price =[]\n",
    "discount =[]"
   ]
  },
  {
   "cell_type": "code",
   "execution_count": 76,
   "id": "23aa7b13",
   "metadata": {},
   "outputs": [
    {
     "data": {
      "text/plain": [
       "40"
      ]
     },
     "execution_count": 76,
     "metadata": {},
     "output_type": "execute_result"
    }
   ],
   "source": [
    "brand_tags=driver.find_elements_by_class_name('_2WkVRV')\n",
    "len(brand_tags)"
   ]
  },
  {
   "cell_type": "code",
   "execution_count": 77,
   "id": "83f0c54e",
   "metadata": {},
   "outputs": [
    {
     "data": {
      "text/plain": [
       "40"
      ]
     },
     "execution_count": 77,
     "metadata": {},
     "output_type": "execute_result"
    }
   ],
   "source": [
    "for i in brand_tags:\n",
    "    brand.append(i.text)\n",
    "len(brand)"
   ]
  },
  {
   "cell_type": "code",
   "execution_count": 79,
   "id": "20405c4b",
   "metadata": {},
   "outputs": [
    {
     "data": {
      "text/plain": [
       "33"
      ]
     },
     "execution_count": 79,
     "metadata": {},
     "output_type": "execute_result"
    }
   ],
   "source": [
    "dis_tags=driver.find_elements_by_xpath('//a[@class=\"IRpwTa\"]')\n",
    "len(dis_tags)"
   ]
  },
  {
   "cell_type": "code",
   "execution_count": 80,
   "id": "297d3520",
   "metadata": {},
   "outputs": [
    {
     "data": {
      "text/plain": [
       "33"
      ]
     },
     "execution_count": 80,
     "metadata": {},
     "output_type": "execute_result"
    }
   ],
   "source": [
    "for i in dis_tags:\n",
    "    discription.append(i.text)\n",
    "len(discription)"
   ]
  },
  {
   "cell_type": "code",
   "execution_count": 83,
   "id": "2b9002c0",
   "metadata": {},
   "outputs": [
    {
     "data": {
      "text/plain": [
       "7"
      ]
     },
     "execution_count": 83,
     "metadata": {},
     "output_type": "execute_result"
    }
   ],
   "source": [
    "dc = driver.find_elements_by_xpath('//a[@class=\"IRpwTa _2-ICcC\"]')\n",
    "len(dc)"
   ]
  },
  {
   "cell_type": "code",
   "execution_count": 84,
   "id": "fa8b747b",
   "metadata": {},
   "outputs": [
    {
     "data": {
      "text/plain": [
       "40"
      ]
     },
     "execution_count": 84,
     "metadata": {},
     "output_type": "execute_result"
    }
   ],
   "source": [
    "discription.insert(15,dc[0].text)\n",
    "discription.insert(23,dc[1].text)\n",
    "discription.insert(27,dc[2].text)\n",
    "discription.insert(29,dc[3].text)\n",
    "discription.insert(31,dc[4].text)\n",
    "discription.insert(35,dc[5].text)\n",
    "discription.append(dc[6].text)\n",
    "len(discription)"
   ]
  },
  {
   "cell_type": "code",
   "execution_count": 93,
   "id": "608e11bf",
   "metadata": {},
   "outputs": [
    {
     "data": {
      "text/plain": [
       "40"
      ]
     },
     "execution_count": 93,
     "metadata": {},
     "output_type": "execute_result"
    }
   ],
   "source": [
    "price_tags=driver.find_elements_by_xpath('//div[@class=\"_30jeq3\"]')\n",
    "len(price_tags)"
   ]
  },
  {
   "cell_type": "code",
   "execution_count": 94,
   "id": "8286b780",
   "metadata": {},
   "outputs": [],
   "source": [
    "for i in price_tags:\n",
    "    price.append(i.text)"
   ]
  },
  {
   "cell_type": "code",
   "execution_count": 95,
   "id": "626b9e63",
   "metadata": {},
   "outputs": [
    {
     "data": {
      "text/plain": [
       "40"
      ]
     },
     "execution_count": 95,
     "metadata": {},
     "output_type": "execute_result"
    }
   ],
   "source": [
    "disc_tags=driver.find_elements_by_xpath('//div[@class=\"_3Ay6Sb\"]')\n",
    "len(disc_tags)"
   ]
  },
  {
   "cell_type": "code",
   "execution_count": 96,
   "id": "2d78eb92",
   "metadata": {},
   "outputs": [],
   "source": [
    "for i in disc_tags:\n",
    "     discount.append(i.text)"
   ]
  },
  {
   "cell_type": "code",
   "execution_count": 98,
   "id": "d6339d06",
   "metadata": {},
   "outputs": [],
   "source": [
    "next_btn =driver.find_element_by_xpath('/html/body/div[1]/div/div[3]/div[1]/div[2]/div[12]/div/div/nav/a[11]/span')\n",
    "next_btn.click()"
   ]
  },
  {
   "cell_type": "code",
   "execution_count": 99,
   "id": "7a9043e5",
   "metadata": {},
   "outputs": [
    {
     "data": {
      "text/plain": [
       "40"
      ]
     },
     "execution_count": 99,
     "metadata": {},
     "output_type": "execute_result"
    }
   ],
   "source": [
    "brand_tags=driver.find_elements_by_class_name('_2WkVRV')\n",
    "len(brand_tags)"
   ]
  },
  {
   "cell_type": "code",
   "execution_count": 100,
   "id": "2ae492c0",
   "metadata": {},
   "outputs": [
    {
     "data": {
      "text/plain": [
       "80"
      ]
     },
     "execution_count": 100,
     "metadata": {},
     "output_type": "execute_result"
    }
   ],
   "source": [
    "for i in brand_tags:\n",
    "    brand.append(i.text)\n",
    "len(brand)"
   ]
  },
  {
   "cell_type": "code",
   "execution_count": 101,
   "id": "eba0fb33",
   "metadata": {},
   "outputs": [
    {
     "data": {
      "text/plain": [
       "30"
      ]
     },
     "execution_count": 101,
     "metadata": {},
     "output_type": "execute_result"
    }
   ],
   "source": [
    "dis_tags = driver.find_elements_by_xpath('//a[@class=\"IRpwTa\"]')\n",
    "len(dis_tags)"
   ]
  },
  {
   "cell_type": "code",
   "execution_count": 102,
   "id": "d0cad8a4",
   "metadata": {},
   "outputs": [
    {
     "data": {
      "text/plain": [
       "70"
      ]
     },
     "execution_count": 102,
     "metadata": {},
     "output_type": "execute_result"
    }
   ],
   "source": [
    "for i in dis_tags:\n",
    "    discription.append(i.text)\n",
    "len(discription)"
   ]
  },
  {
   "cell_type": "code",
   "execution_count": 103,
   "id": "ca009acb",
   "metadata": {},
   "outputs": [
    {
     "data": {
      "text/plain": [
       "10"
      ]
     },
     "execution_count": 103,
     "metadata": {},
     "output_type": "execute_result"
    }
   ],
   "source": [
    "dc = driver.find_elements_by_xpath('//a[@class=\"IRpwTa _2-ICcC\"]')\n",
    "len(dc)"
   ]
  },
  {
   "cell_type": "code",
   "execution_count": 104,
   "id": "ece4b70d",
   "metadata": {},
   "outputs": [],
   "source": [
    "discription.insert(44,dc[0].text)\n",
    "discription.insert(46,dc[1].text)\n",
    "discription.insert(50,dc[2].text)\n",
    "discription.insert(54,dc[3].text)\n",
    "discription.insert(56,dc[4].text)\n",
    "discription.insert(58,dc[5].text)\n",
    "discription.insert(60,dc[6].text)\n",
    "discription.insert(63,dc[7].text)\n",
    "discription.insert(71,dc[8].text)\n",
    "discription.insert(76,dc[9].text)"
   ]
  },
  {
   "cell_type": "code",
   "execution_count": 105,
   "id": "7b5e0787",
   "metadata": {},
   "outputs": [
    {
     "data": {
      "text/plain": [
       "80"
      ]
     },
     "execution_count": 105,
     "metadata": {},
     "output_type": "execute_result"
    }
   ],
   "source": [
    "len(discription)"
   ]
  },
  {
   "cell_type": "code",
   "execution_count": 111,
   "id": "dca9272d",
   "metadata": {},
   "outputs": [
    {
     "data": {
      "text/plain": [
       "80"
      ]
     },
     "execution_count": 111,
     "metadata": {},
     "output_type": "execute_result"
    }
   ],
   "source": [
    "price_tags=driver.find_elements_by_xpath('//div[@class=\"_30jeq3\"]')\n",
    "\n",
    "for i in price_tags:\n",
    "    price.append(i.text)\n",
    "len(price)"
   ]
  },
  {
   "cell_type": "code",
   "execution_count": 112,
   "id": "0a72a042",
   "metadata": {},
   "outputs": [
    {
     "data": {
      "text/plain": [
       "80"
      ]
     },
     "execution_count": 112,
     "metadata": {},
     "output_type": "execute_result"
    }
   ],
   "source": [
    "disc_tags=driver.find_elements_by_xpath('//div[@class=\"_3Ay6Sb\"]')\n",
    "\n",
    "for i in disc_tags:\n",
    "    discount.append(i.text)\n",
    "len(discount)"
   ]
  },
  {
   "cell_type": "code",
   "execution_count": 113,
   "id": "7826a540",
   "metadata": {},
   "outputs": [],
   "source": [
    "next_btn=driver.find_element_by_xpath('/html/body/div[1]/div/div[3]/div[1]/div[2]/div[12]/div/div/nav/a[12]/span')\n",
    "next_btn.click()"
   ]
  },
  {
   "cell_type": "code",
   "execution_count": 114,
   "id": "d05cd3e3",
   "metadata": {},
   "outputs": [
    {
     "data": {
      "text/plain": [
       "100"
      ]
     },
     "execution_count": 114,
     "metadata": {},
     "output_type": "execute_result"
    }
   ],
   "source": [
    "brand_tags=driver.find_elements_by_class_name('_2WkVRV')\n",
    "for i in range(0,20):\n",
    "    brand.append(brand_tags[i].text)\n",
    "len(brand)"
   ]
  },
  {
   "cell_type": "code",
   "execution_count": 115,
   "id": "af47595d",
   "metadata": {},
   "outputs": [
    {
     "data": {
      "text/plain": [
       "31"
      ]
     },
     "execution_count": 115,
     "metadata": {},
     "output_type": "execute_result"
    }
   ],
   "source": [
    "dis_tags=driver.find_elements_by_xpath('//a[@class=\"IRpwTa\"]')\n",
    "len(dis_tags)"
   ]
  },
  {
   "cell_type": "code",
   "execution_count": 116,
   "id": "fe5f7b1e",
   "metadata": {},
   "outputs": [],
   "source": [
    "dc =driver.find_elements_by_xpath('//a[@class=\"IRpwTa _2-ICcC\"]')"
   ]
  },
  {
   "cell_type": "code",
   "execution_count": 117,
   "id": "1e77298d",
   "metadata": {},
   "outputs": [],
   "source": [
    "dis_tags.insert(7,dc[0])\n",
    "dis_tags.insert(12,dc[1])\n",
    "dis_tags.insert(16,dc[2])\n",
    "dis_tags.insert(19,dc[3])"
   ]
  },
  {
   "cell_type": "code",
   "execution_count": 118,
   "id": "627bdcb5",
   "metadata": {},
   "outputs": [
    {
     "data": {
      "text/plain": [
       "100"
      ]
     },
     "execution_count": 118,
     "metadata": {},
     "output_type": "execute_result"
    }
   ],
   "source": [
    "for i in range(0,20):\n",
    "    discription.append(dis_tags[i].text)\n",
    "len(discription)"
   ]
  },
  {
   "cell_type": "code",
   "execution_count": null,
   "id": "9d52cf58",
   "metadata": {},
   "outputs": [],
   "source": [
    "price_tags=driver.find_elements_by_xpath('//div[@class=\"_30jeq3\"]')\n",
    "\n",
    "for i in range(0,20):\n",
    "    price.append(price_tags[i].text)"
   ]
  },
  {
   "cell_type": "code",
   "execution_count": 124,
   "id": "fa340933",
   "metadata": {},
   "outputs": [
    {
     "data": {
      "text/plain": [
       "100"
      ]
     },
     "execution_count": 124,
     "metadata": {},
     "output_type": "execute_result"
    }
   ],
   "source": [
    "len(price)"
   ]
  },
  {
   "cell_type": "code",
   "execution_count": 125,
   "id": "f29420e5",
   "metadata": {},
   "outputs": [
    {
     "data": {
      "text/plain": [
       "100"
      ]
     },
     "execution_count": 125,
     "metadata": {},
     "output_type": "execute_result"
    }
   ],
   "source": [
    "disc_tags=driver.find_elements_by_xpath('//div[@class=\"_3Ay6Sb\"]')\n",
    "\n",
    "for i in range(0,20):\n",
    "    discount.append(disc_tags[i].text)\n",
    "len(discount)"
   ]
  },
  {
   "cell_type": "code",
   "execution_count": 126,
   "id": "350e0cce",
   "metadata": {},
   "outputs": [
    {
     "data": {
      "text/html": [
       "<div>\n",
       "<style scoped>\n",
       "    .dataframe tbody tr th:only-of-type {\n",
       "        vertical-align: middle;\n",
       "    }\n",
       "\n",
       "    .dataframe tbody tr th {\n",
       "        vertical-align: top;\n",
       "    }\n",
       "\n",
       "    .dataframe thead th {\n",
       "        text-align: right;\n",
       "    }\n",
       "</style>\n",
       "<table border=\"1\" class=\"dataframe\">\n",
       "  <thead>\n",
       "    <tr style=\"text-align: right;\">\n",
       "      <th></th>\n",
       "      <th>Brand</th>\n",
       "      <th>Discription</th>\n",
       "      <th>Price</th>\n",
       "      <th>Discount</th>\n",
       "    </tr>\n",
       "  </thead>\n",
       "  <tbody>\n",
       "    <tr>\n",
       "      <th>0</th>\n",
       "      <td>Nilatin</td>\n",
       "      <td>Sneakers For Men</td>\n",
       "      <td>₹499</td>\n",
       "      <td>75% off</td>\n",
       "    </tr>\n",
       "    <tr>\n",
       "      <th>1</th>\n",
       "      <td>HRX by Hrithik Roshan</td>\n",
       "      <td>Men White Printed Sneakers Sneakers For Men</td>\n",
       "      <td>₹2,499</td>\n",
       "      <td>41% off</td>\n",
       "    </tr>\n",
       "    <tr>\n",
       "      <th>2</th>\n",
       "      <td>Chevit</td>\n",
       "      <td>Super Stylish &amp; Trendy Combo Pack of 02 Pairs ...</td>\n",
       "      <td>₹649</td>\n",
       "      <td>59% off</td>\n",
       "    </tr>\n",
       "    <tr>\n",
       "      <th>3</th>\n",
       "      <td>BRUTON</td>\n",
       "      <td>Combo Pack Of 4 Casual Shoes Loafer Shoes Snea...</td>\n",
       "      <td>₹599</td>\n",
       "      <td>82% off</td>\n",
       "    </tr>\n",
       "    <tr>\n",
       "      <th>4</th>\n",
       "      <td>BRUTON</td>\n",
       "      <td>Modern Trendy Sneakers Shoes Sneakers For Men</td>\n",
       "      <td>₹259</td>\n",
       "      <td>80% off</td>\n",
       "    </tr>\n",
       "    <tr>\n",
       "      <th>...</th>\n",
       "      <td>...</td>\n",
       "      <td>...</td>\n",
       "      <td>...</td>\n",
       "      <td>...</td>\n",
       "    </tr>\n",
       "    <tr>\n",
       "      <th>95</th>\n",
       "      <td>Destony</td>\n",
       "      <td>X-Ray 2 Square Sneakers For Men</td>\n",
       "      <td>₹399</td>\n",
       "      <td>45% off</td>\n",
       "    </tr>\n",
       "    <tr>\n",
       "      <th>96</th>\n",
       "      <td>PUMA</td>\n",
       "      <td>Sneakers For Men</td>\n",
       "      <td>₹3,849</td>\n",
       "      <td>75% off</td>\n",
       "    </tr>\n",
       "    <tr>\n",
       "      <th>97</th>\n",
       "      <td>aadi</td>\n",
       "      <td>Sneakers For Men</td>\n",
       "      <td>₹499</td>\n",
       "      <td>30% off</td>\n",
       "    </tr>\n",
       "    <tr>\n",
       "      <th>98</th>\n",
       "      <td>RapidBox</td>\n",
       "      <td>Sneakers For Men</td>\n",
       "      <td>₹690</td>\n",
       "      <td>64% off</td>\n",
       "    </tr>\n",
       "    <tr>\n",
       "      <th>99</th>\n",
       "      <td>Numenzo</td>\n",
       "      <td>Sneakers For Men</td>\n",
       "      <td>₹455</td>\n",
       "      <td>31% off</td>\n",
       "    </tr>\n",
       "  </tbody>\n",
       "</table>\n",
       "<p>100 rows × 4 columns</p>\n",
       "</div>"
      ],
      "text/plain": [
       "                    Brand                                        Discription  \\\n",
       "0                 Nilatin                                   Sneakers For Men   \n",
       "1   HRX by Hrithik Roshan        Men White Printed Sneakers Sneakers For Men   \n",
       "2                  Chevit  Super Stylish & Trendy Combo Pack of 02 Pairs ...   \n",
       "3                  BRUTON  Combo Pack Of 4 Casual Shoes Loafer Shoes Snea...   \n",
       "4                  BRUTON      Modern Trendy Sneakers Shoes Sneakers For Men   \n",
       "..                    ...                                                ...   \n",
       "95                Destony                    X-Ray 2 Square Sneakers For Men   \n",
       "96                   PUMA                                   Sneakers For Men   \n",
       "97                   aadi                                   Sneakers For Men   \n",
       "98               RapidBox                                   Sneakers For Men   \n",
       "99                Numenzo                                   Sneakers For Men   \n",
       "\n",
       "     Price Discount  \n",
       "0     ₹499  75% off  \n",
       "1   ₹2,499  41% off  \n",
       "2     ₹649  59% off  \n",
       "3     ₹599  82% off  \n",
       "4     ₹259  80% off  \n",
       "..     ...      ...  \n",
       "95    ₹399  45% off  \n",
       "96  ₹3,849  75% off  \n",
       "97    ₹499  30% off  \n",
       "98    ₹690  64% off  \n",
       "99    ₹455  31% off  \n",
       "\n",
       "[100 rows x 4 columns]"
      ]
     },
     "execution_count": 126,
     "metadata": {},
     "output_type": "execute_result"
    }
   ],
   "source": [
    "#creating dataframe for extracted data\n",
    "sneakers_df=pd.DataFrame({'Brand':brand,'Discription':discription,'Price':price,'Discount':discount})\n",
    "sneakers_df"
   ]
  },
  {
   "cell_type": "markdown",
   "id": "bd883225",
   "metadata": {},
   "source": [
    " "
   ]
  },
  {
   "cell_type": "markdown",
   "id": "65bab0c7",
   "metadata": {},
   "source": [
    "## Q7."
   ]
  },
  {
   "cell_type": "code",
   "execution_count": 29,
   "id": "1755b097",
   "metadata": {},
   "outputs": [],
   "source": [
    "driver= webdriver.Chrome('chromedriver.exe')"
   ]
  },
  {
   "cell_type": "code",
   "execution_count": 3,
   "id": "67612bc9",
   "metadata": {},
   "outputs": [],
   "source": [
    "driver.get('https://www.myntra.com/shoes')"
   ]
  },
  {
   "cell_type": "markdown",
   "id": "caf2c4f9",
   "metadata": {},
   "source": [
    "###### Applying Filters"
   ]
  },
  {
   "cell_type": "code",
   "execution_count": 4,
   "id": "9fddcc14",
   "metadata": {},
   "outputs": [
    {
     "data": {
      "text/plain": [
       "<selenium.webdriver.remote.webelement.WebElement (session=\"f2db1dde687574cc8c1c4792a91c7659\", element=\"90a7b6b6-3382-49b6-b4fa-85f5989f477e\")>"
      ]
     },
     "execution_count": 4,
     "metadata": {},
     "output_type": "execute_result"
    }
   ],
   "source": [
    "price_fltr=driver.find_element_by_xpath('/html/body/div[2]/div/div[1]/main/div[3]/div[1]/section/div/div[5]/ul/li[2]/label')\n",
    "price_fltr"
   ]
  },
  {
   "cell_type": "code",
   "execution_count": 5,
   "id": "056393c3",
   "metadata": {},
   "outputs": [],
   "source": [
    "price_fltr.click()"
   ]
  },
  {
   "cell_type": "code",
   "execution_count": 6,
   "id": "eab5cdc9",
   "metadata": {},
   "outputs": [
    {
     "data": {
      "text/plain": [
       "<selenium.webdriver.remote.webelement.WebElement (session=\"f2db1dde687574cc8c1c4792a91c7659\", element=\"46082335-b440-4695-927a-109e3ef77c28\")>"
      ]
     },
     "execution_count": 6,
     "metadata": {},
     "output_type": "execute_result"
    }
   ],
   "source": [
    "color_fltr=driver.find_element_by_xpath('/html/body/div[2]/div/div[1]/main/div[3]/div[1]/section/div/div[6]/ul/li[1]/label/div')\n",
    "color_fltr"
   ]
  },
  {
   "cell_type": "code",
   "execution_count": 7,
   "id": "1ffe0a88",
   "metadata": {},
   "outputs": [],
   "source": [
    "color_fltr.click()"
   ]
  },
  {
   "cell_type": "markdown",
   "id": "7671756d",
   "metadata": {},
   "source": [
    "###### Extracting The Data"
   ]
  },
  {
   "cell_type": "code",
   "execution_count": 9,
   "id": "c589653b",
   "metadata": {},
   "outputs": [],
   "source": [
    "#creating empty lists to store extracted data\n",
    "brand= []\n",
    "discription= []\n",
    "price=[]"
   ]
  },
  {
   "cell_type": "code",
   "execution_count": 10,
   "id": "c0bff440",
   "metadata": {},
   "outputs": [
    {
     "data": {
      "text/plain": [
       "50"
      ]
     },
     "execution_count": 10,
     "metadata": {},
     "output_type": "execute_result"
    }
   ],
   "source": [
    "#extracting brand name\n",
    "brand_tags=driver.find_elements_by_xpath('//h3[@class=\"product-brand\"]')\n",
    "len(brand_tags)"
   ]
  },
  {
   "cell_type": "code",
   "execution_count": 11,
   "id": "5a5edf76",
   "metadata": {},
   "outputs": [
    {
     "data": {
      "text/plain": [
       "50"
      ]
     },
     "execution_count": 11,
     "metadata": {},
     "output_type": "execute_result"
    }
   ],
   "source": [
    "for i in brand_tags:\n",
    "    brand.append(i.text)\n",
    "len(brand)"
   ]
  },
  {
   "cell_type": "code",
   "execution_count": 12,
   "id": "f222d7f4",
   "metadata": {},
   "outputs": [
    {
     "data": {
      "text/plain": [
       "50"
      ]
     },
     "execution_count": 12,
     "metadata": {},
     "output_type": "execute_result"
    }
   ],
   "source": [
    "#extracting product discription\n",
    "discription_tags=driver.find_elements_by_xpath('//h4[@class=\"product-product\"]')\n",
    "len(discription_tags)"
   ]
  },
  {
   "cell_type": "code",
   "execution_count": 13,
   "id": "47351647",
   "metadata": {},
   "outputs": [
    {
     "data": {
      "text/plain": [
       "50"
      ]
     },
     "execution_count": 13,
     "metadata": {},
     "output_type": "execute_result"
    }
   ],
   "source": [
    "for i in discription_tags:\n",
    "    discription.append(i.text)\n",
    "len(discription)"
   ]
  },
  {
   "cell_type": "code",
   "execution_count": 16,
   "id": "d8eaf60a",
   "metadata": {},
   "outputs": [
    {
     "data": {
      "text/plain": [
       "50"
      ]
     },
     "execution_count": 16,
     "metadata": {},
     "output_type": "execute_result"
    }
   ],
   "source": [
    "#extracting product price\n",
    "price_tags= driver.find_elements_by_class_name('product-price')\n",
    "len(price_tags)"
   ]
  },
  {
   "cell_type": "code",
   "execution_count": 22,
   "id": "8681201c",
   "metadata": {},
   "outputs": [],
   "source": [
    "for i in price_tags:\n",
    "    price.append(i.text)"
   ]
  },
  {
   "cell_type": "code",
   "execution_count": 37,
   "id": "effceb96",
   "metadata": {},
   "outputs": [
    {
     "data": {
      "text/plain": [
       "50"
      ]
     },
     "execution_count": 37,
     "metadata": {},
     "output_type": "execute_result"
    }
   ],
   "source": [
    "len(price)"
   ]
  },
  {
   "cell_type": "code",
   "execution_count": 38,
   "id": "2b67273b",
   "metadata": {},
   "outputs": [],
   "source": [
    "next_btn=driver.find_element_by_xpath('/html/body/div[2]/div/div[1]/main/div[3]/div[2]/div/div[2]/section/div[2]/ul/li[12]/a')\n",
    "next_btn.click()"
   ]
  },
  {
   "cell_type": "code",
   "execution_count": 39,
   "id": "d861f8c4",
   "metadata": {},
   "outputs": [
    {
     "data": {
      "text/plain": [
       "50"
      ]
     },
     "execution_count": 39,
     "metadata": {},
     "output_type": "execute_result"
    }
   ],
   "source": [
    "brand_tags=driver.find_elements_by_xpath('//h3[@class=\"product-brand\"]')\n",
    "len(brand_tags)"
   ]
  },
  {
   "cell_type": "code",
   "execution_count": 40,
   "id": "f65e6c3d",
   "metadata": {},
   "outputs": [
    {
     "data": {
      "text/plain": [
       "100"
      ]
     },
     "execution_count": 40,
     "metadata": {},
     "output_type": "execute_result"
    }
   ],
   "source": [
    "for i in brand_tags:\n",
    "    brand.append(i.text)\n",
    "len(brand)"
   ]
  },
  {
   "cell_type": "code",
   "execution_count": 41,
   "id": "7665ab49",
   "metadata": {},
   "outputs": [
    {
     "data": {
      "text/plain": [
       "50"
      ]
     },
     "execution_count": 41,
     "metadata": {},
     "output_type": "execute_result"
    }
   ],
   "source": [
    "discription_tags=driver.find_elements_by_xpath('//h4[@class=\"product-product\"]')\n",
    "len(discription_tags)"
   ]
  },
  {
   "cell_type": "code",
   "execution_count": 42,
   "id": "0a9d04c9",
   "metadata": {},
   "outputs": [
    {
     "data": {
      "text/plain": [
       "100"
      ]
     },
     "execution_count": 42,
     "metadata": {},
     "output_type": "execute_result"
    }
   ],
   "source": [
    "for i in discription_tags:\n",
    "    discription.append(i.text)\n",
    "len(discription)"
   ]
  },
  {
   "cell_type": "code",
   "execution_count": 43,
   "id": "e3a39218",
   "metadata": {},
   "outputs": [
    {
     "data": {
      "text/plain": [
       "50"
      ]
     },
     "execution_count": 43,
     "metadata": {},
     "output_type": "execute_result"
    }
   ],
   "source": [
    "price_tags= driver.find_elements_by_class_name('product-price')\n",
    "len(price_tags)"
   ]
  },
  {
   "cell_type": "code",
   "execution_count": 44,
   "id": "b425f845",
   "metadata": {},
   "outputs": [
    {
     "data": {
      "text/plain": [
       "100"
      ]
     },
     "execution_count": 44,
     "metadata": {},
     "output_type": "execute_result"
    }
   ],
   "source": [
    "for i in price_tags:\n",
    "    price.append(i.text)\n",
    "len(price)"
   ]
  },
  {
   "cell_type": "code",
   "execution_count": 45,
   "id": "47e009c2",
   "metadata": {},
   "outputs": [],
   "source": [
    "#crearing dataframe\n",
    "shoes_df=pd.DataFrame()\n",
    "shoes_df['Brand']= brand\n",
    "shoes_df['Discription']= discription\n",
    "shoes_df['Price']= price"
   ]
  },
  {
   "cell_type": "code",
   "execution_count": 46,
   "id": "28fc0c83",
   "metadata": {
    "scrolled": true
   },
   "outputs": [
    {
     "data": {
      "text/html": [
       "<div>\n",
       "<style scoped>\n",
       "    .dataframe tbody tr th:only-of-type {\n",
       "        vertical-align: middle;\n",
       "    }\n",
       "\n",
       "    .dataframe tbody tr th {\n",
       "        vertical-align: top;\n",
       "    }\n",
       "\n",
       "    .dataframe thead th {\n",
       "        text-align: right;\n",
       "    }\n",
       "</style>\n",
       "<table border=\"1\" class=\"dataframe\">\n",
       "  <thead>\n",
       "    <tr style=\"text-align: right;\">\n",
       "      <th></th>\n",
       "      <th>Brand</th>\n",
       "      <th>Discription</th>\n",
       "      <th>Price</th>\n",
       "    </tr>\n",
       "  </thead>\n",
       "  <tbody>\n",
       "    <tr>\n",
       "      <th>0</th>\n",
       "      <td>Nike</td>\n",
       "      <td>Men AIR ZOOM PEGASUS 38</td>\n",
       "      <td>Rs. 10920</td>\n",
       "    </tr>\n",
       "    <tr>\n",
       "      <th>1</th>\n",
       "      <td>ALDO</td>\n",
       "      <td>Men Printed Sneakers</td>\n",
       "      <td>Rs. 9099</td>\n",
       "    </tr>\n",
       "    <tr>\n",
       "      <th>2</th>\n",
       "      <td>Nike</td>\n",
       "      <td>Men Blazer Court Skateboarding</td>\n",
       "      <td>Rs. 7495</td>\n",
       "    </tr>\n",
       "    <tr>\n",
       "      <th>3</th>\n",
       "      <td>Tommy Hilfiger</td>\n",
       "      <td>Men Leather Sneakers</td>\n",
       "      <td>Rs. 7999</td>\n",
       "    </tr>\n",
       "    <tr>\n",
       "      <th>4</th>\n",
       "      <td>Puma</td>\n",
       "      <td>Men Jamming 2.0 Running Shoes</td>\n",
       "      <td>Rs. 12999</td>\n",
       "    </tr>\n",
       "  </tbody>\n",
       "</table>\n",
       "</div>"
      ],
      "text/plain": [
       "            Brand                     Discription      Price\n",
       "0            Nike         Men AIR ZOOM PEGASUS 38  Rs. 10920\n",
       "1            ALDO            Men Printed Sneakers   Rs. 9099\n",
       "2            Nike  Men Blazer Court Skateboarding   Rs. 7495\n",
       "3  Tommy Hilfiger            Men Leather Sneakers   Rs. 7999\n",
       "4            Puma   Men Jamming 2.0 Running Shoes  Rs. 12999"
      ]
     },
     "execution_count": 46,
     "metadata": {},
     "output_type": "execute_result"
    }
   ],
   "source": [
    "shoes_df.head()"
   ]
  },
  {
   "cell_type": "markdown",
   "id": "d9c76d99",
   "metadata": {},
   "source": [
    " "
   ]
  },
  {
   "cell_type": "markdown",
   "id": "dfbd44ef",
   "metadata": {},
   "source": [
    "## Q8."
   ]
  },
  {
   "cell_type": "code",
   "execution_count": 3,
   "id": "5cf82e81",
   "metadata": {},
   "outputs": [],
   "source": [
    "driver.get('https://www.amazon.in/')"
   ]
  },
  {
   "cell_type": "code",
   "execution_count": 4,
   "id": "37aafd3d",
   "metadata": {},
   "outputs": [
    {
     "data": {
      "text/plain": [
       "<selenium.webdriver.remote.webelement.WebElement (session=\"e105478fec0d027eaf06e56788bc6d67\", element=\"1fe3b3d5-b7d3-46db-ba29-f00f5b7c1e01\")>"
      ]
     },
     "execution_count": 4,
     "metadata": {},
     "output_type": "execute_result"
    }
   ],
   "source": [
    "search_text = driver.find_element_by_xpath('/html/body/div[1]/header/div/div[1]/div[2]/div/form/div[2]/div[1]/input')\n",
    "search_text"
   ]
  },
  {
   "cell_type": "code",
   "execution_count": 5,
   "id": "6188cc02",
   "metadata": {},
   "outputs": [],
   "source": [
    "search_text.send_keys('laptop')"
   ]
  },
  {
   "cell_type": "code",
   "execution_count": 6,
   "id": "442db43e",
   "metadata": {},
   "outputs": [],
   "source": [
    "search_btn=driver.find_element_by_xpath('/html/body/div[1]/header/div/div[1]/div[2]/div/form/div[3]/div/span/input')\n",
    "search_btn.click()"
   ]
  },
  {
   "cell_type": "markdown",
   "id": "aba83668",
   "metadata": {},
   "source": [
    "###### Extracting the Data"
   ]
  },
  {
   "cell_type": "markdown",
   "id": "549439f6",
   "metadata": {},
   "source": [
    "###### Applying Filters"
   ]
  },
  {
   "cell_type": "markdown",
   "id": "c92683e8",
   "metadata": {},
   "source": [
    "First,applying processor filter as 'Intel Core i7\" and extract the data"
   ]
  },
  {
   "cell_type": "code",
   "execution_count": 7,
   "id": "54c09d5f",
   "metadata": {},
   "outputs": [],
   "source": [
    "filter1=driver.find_element_by_xpath('/html/body/div[1]/div[2]/div[1]/div[2]/div/div[3]/span/div[1]/div/div/div[6]/ul[3]/li[11]/span/a/div/label/i')\n",
    "filter1.click()"
   ]
  },
  {
   "cell_type": "code",
   "execution_count": 8,
   "id": "ab5dd8fa",
   "metadata": {},
   "outputs": [],
   "source": [
    "#creating empty lists to store extracted data\n",
    "title =[]\n",
    "ratings =[]\n",
    "price =[]"
   ]
  },
  {
   "cell_type": "code",
   "execution_count": 9,
   "id": "c40c8d70",
   "metadata": {},
   "outputs": [
    {
     "data": {
      "text/plain": [
       "30"
      ]
     },
     "execution_count": 9,
     "metadata": {},
     "output_type": "execute_result"
    }
   ],
   "source": [
    "title_tags =driver.find_elements_by_xpath('//span[@class=\"a-size-medium a-color-base a-text-normal\"]')\n",
    "len(title_tags)"
   ]
  },
  {
   "cell_type": "code",
   "execution_count": 10,
   "id": "772a796a",
   "metadata": {},
   "outputs": [
    {
     "data": {
      "text/plain": [
       "10"
      ]
     },
     "execution_count": 10,
     "metadata": {},
     "output_type": "execute_result"
    }
   ],
   "source": [
    "for i in range(0,10):\n",
    "    title.append(title_tags[i].text)\n",
    "len(title)"
   ]
  },
  {
   "cell_type": "code",
   "execution_count": 21,
   "id": "5dc7b189",
   "metadata": {},
   "outputs": [],
   "source": [
    "#locating Ratings\n",
    "\n",
    "urls=driver.find_elements_by_xpath('//a[@class=\"a-link-normal s-underline-text s-underline-link-text s-link-style a-text-normal\"]')#collecting urls of all the laptop\n",
    "\n",
    "UR=[]\n",
    "\n",
    "for i in urls[:10]:\n",
    "\n",
    "    UR.append(i.get_attribute('href'))#getting the url of first 10 laptops\n",
    "\n",
    "for url in UR:#loop for every laptop in the list\n",
    "\n",
    "    driver.get(url)\n",
    "\n",
    "    try:                  #exception handling for nosuchelementexception                                                    #click the rating link found\n",
    "\n",
    "        rating=driver.find_element_by_xpath(\"//span[@class='a-size-base a-nowrap']//span\")#locating the rating\n",
    "\n",
    "        ratings.append(rating.text)#appending the ratings in Ratings list\n",
    "\n",
    "        \n",
    "\n",
    "    except :\n",
    "\n",
    "        ratings.append(\"NO rating\")#appending the No rating if no rating is there\n",
    "\n"
   ]
  },
  {
   "cell_type": "code",
   "execution_count": 15,
   "id": "d610cf93",
   "metadata": {},
   "outputs": [],
   "source": [
    "search_btn=driver.find_element_by_xpath('/html/body/div[2]/header/div/div[1]/div[2]/div/form/div[3]/div/span/input')\n",
    "search_btn.click()"
   ]
  },
  {
   "cell_type": "code",
   "execution_count": 17,
   "id": "ead5b00a",
   "metadata": {},
   "outputs": [],
   "source": [
    "filter1=driver.find_element_by_xpath('/html/body/div[1]/div[2]/div[1]/div[2]/div/div[3]/span/div[1]/div/div/div[6]/ul[4]/li[12]/span/a/div/label/i')\n",
    "filter1.click()"
   ]
  },
  {
   "cell_type": "code",
   "execution_count": 18,
   "id": "b87fc0f9",
   "metadata": {},
   "outputs": [
    {
     "data": {
      "text/plain": [
       "30"
      ]
     },
     "execution_count": 18,
     "metadata": {},
     "output_type": "execute_result"
    }
   ],
   "source": [
    "price_tags=driver.find_elements_by_xpath('//span[@class=\"a-price-whole\"]')\n",
    "len(price_tags)"
   ]
  },
  {
   "cell_type": "code",
   "execution_count": 19,
   "id": "7a4d0b38",
   "metadata": {},
   "outputs": [
    {
     "data": {
      "text/plain": [
       "10"
      ]
     },
     "execution_count": 19,
     "metadata": {},
     "output_type": "execute_result"
    }
   ],
   "source": [
    "for i in range(0,10):\n",
    "    price.append(price_tags[i].text)\n",
    "len(price)"
   ]
  },
  {
   "cell_type": "code",
   "execution_count": 27,
   "id": "2924c7b3",
   "metadata": {},
   "outputs": [
    {
     "data": {
      "text/html": [
       "<div>\n",
       "<style scoped>\n",
       "    .dataframe tbody tr th:only-of-type {\n",
       "        vertical-align: middle;\n",
       "    }\n",
       "\n",
       "    .dataframe tbody tr th {\n",
       "        vertical-align: top;\n",
       "    }\n",
       "\n",
       "    .dataframe thead th {\n",
       "        text-align: right;\n",
       "    }\n",
       "</style>\n",
       "<table border=\"1\" class=\"dataframe\">\n",
       "  <thead>\n",
       "    <tr style=\"text-align: right;\">\n",
       "      <th></th>\n",
       "      <th>Title</th>\n",
       "      <th>Rating</th>\n",
       "      <th>Price</th>\n",
       "    </tr>\n",
       "  </thead>\n",
       "  <tbody>\n",
       "    <tr>\n",
       "      <th>0</th>\n",
       "      <td>LG Gram 16 inches Intel Evo 11th Gen Core i7 U...</td>\n",
       "      <td>4.4 out of 5</td>\n",
       "      <td>90,999</td>\n",
       "    </tr>\n",
       "    <tr>\n",
       "      <th>1</th>\n",
       "      <td>Fujitsu UH-X 11th Gen Intel i7 Core 13.3” (33....</td>\n",
       "      <td>4.4 out of 5</td>\n",
       "      <td>89,990</td>\n",
       "    </tr>\n",
       "    <tr>\n",
       "      <th>2</th>\n",
       "      <td>ASUS VivoBook 14 (2021), 14-inch (35.56 cms) F...</td>\n",
       "      <td>4.3 out of 5</td>\n",
       "      <td>59,990</td>\n",
       "    </tr>\n",
       "    <tr>\n",
       "      <th>3</th>\n",
       "      <td>HP Pavilion x360 11th Gen Intel Core i7 14 inc...</td>\n",
       "      <td>4.6 out of 5</td>\n",
       "      <td>86,490</td>\n",
       "    </tr>\n",
       "    <tr>\n",
       "      <th>4</th>\n",
       "      <td>ASUS TUF Gaming F15 (2021) 15.6-inch (39.62 cm...</td>\n",
       "      <td>4.3 out of 5</td>\n",
       "      <td>96,990</td>\n",
       "    </tr>\n",
       "    <tr>\n",
       "      <th>5</th>\n",
       "      <td>LG Gram Intel Evo 11th Gen Core i7 17 inches U...</td>\n",
       "      <td>4.6 out of 5</td>\n",
       "      <td>99,999</td>\n",
       "    </tr>\n",
       "    <tr>\n",
       "      <th>6</th>\n",
       "      <td>Lenovo ThinkBook 13s Intel 11th Gen Core i7 13...</td>\n",
       "      <td>4.1 out of 5</td>\n",
       "      <td>84,990</td>\n",
       "    </tr>\n",
       "    <tr>\n",
       "      <th>7</th>\n",
       "      <td>ASUS VivoBook K15 OLED (2021), 15.6-inch (39.6...</td>\n",
       "      <td>NO rating</td>\n",
       "      <td>82,990</td>\n",
       "    </tr>\n",
       "    <tr>\n",
       "      <th>8</th>\n",
       "      <td>HP Pavilion Gaming 11th Gen Intel Core i7 Proc...</td>\n",
       "      <td>2 out of 5</td>\n",
       "      <td>95,990</td>\n",
       "    </tr>\n",
       "    <tr>\n",
       "      <th>9</th>\n",
       "      <td>Mi Notebook Horizon Edition 14 Intel Core i7-1...</td>\n",
       "      <td>4.2 out of 5</td>\n",
       "      <td>59,990</td>\n",
       "    </tr>\n",
       "  </tbody>\n",
       "</table>\n",
       "</div>"
      ],
      "text/plain": [
       "                                               Title        Rating   Price\n",
       "0  LG Gram 16 inches Intel Evo 11th Gen Core i7 U...  4.4 out of 5  90,999\n",
       "1  Fujitsu UH-X 11th Gen Intel i7 Core 13.3” (33....  4.4 out of 5  89,990\n",
       "2  ASUS VivoBook 14 (2021), 14-inch (35.56 cms) F...  4.3 out of 5  59,990\n",
       "3  HP Pavilion x360 11th Gen Intel Core i7 14 inc...  4.6 out of 5  86,490\n",
       "4  ASUS TUF Gaming F15 (2021) 15.6-inch (39.62 cm...  4.3 out of 5  96,990\n",
       "5  LG Gram Intel Evo 11th Gen Core i7 17 inches U...  4.6 out of 5  99,999\n",
       "6  Lenovo ThinkBook 13s Intel 11th Gen Core i7 13...  4.1 out of 5  84,990\n",
       "7  ASUS VivoBook K15 OLED (2021), 15.6-inch (39.6...     NO rating  82,990\n",
       "8  HP Pavilion Gaming 11th Gen Intel Core i7 Proc...    2 out of 5  95,990\n",
       "9  Mi Notebook Horizon Edition 14 Intel Core i7-1...  4.2 out of 5  59,990"
      ]
     },
     "execution_count": 27,
     "metadata": {},
     "output_type": "execute_result"
    }
   ],
   "source": [
    "#creating data frame for data of i7 processor\n",
    "I7_df=pd.DataFrame({'Title':title,'Rating':ratings,'Price':price})\n",
    "I7_df"
   ]
  },
  {
   "cell_type": "code",
   "execution_count": 49,
   "id": "3d082384",
   "metadata": {},
   "outputs": [],
   "source": [
    "search_btn=driver.find_element_by_xpath('/html/body/div[2]/header/div/div[1]/div[2]/div/form/div[3]/div/span/input')\n",
    "search_btn.click()"
   ]
  },
  {
   "cell_type": "code",
   "execution_count": 50,
   "id": "38eb0120",
   "metadata": {},
   "outputs": [],
   "source": [
    "filter2=driver.find_element_by_xpath('/html/body/div[1]/div[2]/div[1]/div[2]/div/div[3]/span/div[1]/div/div/div[6]/ul[4]/li[13]/span/a/div/label/i')\n",
    "filter2.click()"
   ]
  },
  {
   "cell_type": "code",
   "execution_count": 30,
   "id": "16b7684e",
   "metadata": {},
   "outputs": [
    {
     "data": {
      "text/plain": [
       "10"
      ]
     },
     "execution_count": 30,
     "metadata": {},
     "output_type": "execute_result"
    }
   ],
   "source": [
    "title_tags=driver.find_elements_by_xpath('//span[@class=\"a-size-medium a-color-base a-text-normal\"]')\n",
    "len(title_tags)"
   ]
  },
  {
   "cell_type": "code",
   "execution_count": 31,
   "id": "373391f8",
   "metadata": {},
   "outputs": [
    {
     "data": {
      "text/plain": [
       "10"
      ]
     },
     "execution_count": 31,
     "metadata": {},
     "output_type": "execute_result"
    }
   ],
   "source": [
    "title=[]\n",
    "for i in title_tags:\n",
    "    title.append(i.text)\n",
    "len(title)"
   ]
  },
  {
   "cell_type": "code",
   "execution_count": 32,
   "id": "1a3b1107",
   "metadata": {},
   "outputs": [],
   "source": [
    "price_tags=driver.find_elements_by_xpath('//span[@class=\"a-price-whole\"]')\n",
    "price=[]\n",
    "\n",
    "for i in price_tags:\n",
    "    price.append(i.text)"
   ]
  },
  {
   "cell_type": "code",
   "execution_count": 51,
   "id": "270ae4a6",
   "metadata": {},
   "outputs": [],
   "source": [
    "#locating Ratings\n",
    "ratings =[]\n",
    "urls=driver.find_elements_by_xpath('//a[@class=\"a-link-normal s-underline-text s-underline-link-text s-link-style a-text-normal\"]')#collecting urls of all the laptop\n",
    "\n",
    "UR=[]\n",
    "\n",
    "for i in urls[:10]:\n",
    "\n",
    "    UR.append(i.get_attribute('href'))#getting the url of first 10 laptops\n",
    "\n",
    "for url in UR:#loop for every laptop in the list\n",
    "\n",
    "    driver.get(url)\n",
    "\n",
    "    try:                  #exception handling for nosuchelementexception                                                    #click the rating link found\n",
    "\n",
    "        rating=driver.find_element_by_xpath(\"//span[@class='a-size-base a-nowrap']//span\")#locating the rating\n",
    "\n",
    "        ratings.append(rating.text)#appending the ratings in Ratings list\n",
    "\n",
    "        \n",
    "\n",
    "    except :\n",
    "\n",
    "        ratings.append(\"NO rating\")#appending the No rating if no rating is there\n",
    "\n"
   ]
  },
  {
   "cell_type": "code",
   "execution_count": 52,
   "id": "569e5ff5",
   "metadata": {},
   "outputs": [
    {
     "data": {
      "text/html": [
       "<div>\n",
       "<style scoped>\n",
       "    .dataframe tbody tr th:only-of-type {\n",
       "        vertical-align: middle;\n",
       "    }\n",
       "\n",
       "    .dataframe tbody tr th {\n",
       "        vertical-align: top;\n",
       "    }\n",
       "\n",
       "    .dataframe thead th {\n",
       "        text-align: right;\n",
       "    }\n",
       "</style>\n",
       "<table border=\"1\" class=\"dataframe\">\n",
       "  <thead>\n",
       "    <tr style=\"text-align: right;\">\n",
       "      <th></th>\n",
       "      <th>Title</th>\n",
       "      <th>Rating</th>\n",
       "      <th>Price</th>\n",
       "    </tr>\n",
       "  </thead>\n",
       "  <tbody>\n",
       "    <tr>\n",
       "      <th>0</th>\n",
       "      <td>ASUS TUF Gaming F15 (2021), 15.6-inch (39.62 c...</td>\n",
       "      <td>4.3 out of 5</td>\n",
       "      <td>1,43,990</td>\n",
       "    </tr>\n",
       "    <tr>\n",
       "      <th>1</th>\n",
       "      <td>ASUS TUF Gaming F15 (2021), 15.6-inch (39.62 c...</td>\n",
       "      <td>5 out of 5</td>\n",
       "      <td>1,39,990</td>\n",
       "    </tr>\n",
       "    <tr>\n",
       "      <th>2</th>\n",
       "      <td>ASUS TUF Gaming F15 (2021), 15.6\" (39.62 cms) ...</td>\n",
       "      <td>4.3 out of 5</td>\n",
       "      <td>1,44,990</td>\n",
       "    </tr>\n",
       "    <tr>\n",
       "      <th>3</th>\n",
       "      <td>HP ZBOOK Power G8/ Intel core i9-11900H 8 Core...</td>\n",
       "      <td>NO rating</td>\n",
       "      <td>2,43,000</td>\n",
       "    </tr>\n",
       "    <tr>\n",
       "      <th>4</th>\n",
       "      <td>(Renewed) Dell G7 7500 15.6inch FHD 300 Hz Dis...</td>\n",
       "      <td>NO rating</td>\n",
       "      <td>2,25,000</td>\n",
       "    </tr>\n",
       "    <tr>\n",
       "      <th>5</th>\n",
       "      <td>(Renewed) DELL XPS 7590 15.6-inch UHD Display ...</td>\n",
       "      <td>NO rating</td>\n",
       "      <td>1,75,000</td>\n",
       "    </tr>\n",
       "    <tr>\n",
       "      <th>6</th>\n",
       "      <td>HP Zbook - Intel i9, 15 inch(39.6 cm)FHD 400 N...</td>\n",
       "      <td>5 out of 5</td>\n",
       "      <td>2,54,563</td>\n",
       "    </tr>\n",
       "    <tr>\n",
       "      <th>7</th>\n",
       "      <td>Dell Precision 5550 || i9 -10885H || 16GB || 1...</td>\n",
       "      <td>NO rating</td>\n",
       "      <td>2,25,000</td>\n",
       "    </tr>\n",
       "    <tr>\n",
       "      <th>8</th>\n",
       "      <td>Z2 G5 Workstation 700W /Core i9-10900 (2.8GHz ...</td>\n",
       "      <td>NO rating</td>\n",
       "      <td>2,39,000</td>\n",
       "    </tr>\n",
       "    <tr>\n",
       "      <th>9</th>\n",
       "      <td>HP ZBook Power G8/ Intel Core i9-11950H 2.5GHz...</td>\n",
       "      <td>NO rating</td>\n",
       "      <td>2,93,000</td>\n",
       "    </tr>\n",
       "  </tbody>\n",
       "</table>\n",
       "</div>"
      ],
      "text/plain": [
       "                                               Title        Rating     Price\n",
       "0  ASUS TUF Gaming F15 (2021), 15.6-inch (39.62 c...  4.3 out of 5  1,43,990\n",
       "1  ASUS TUF Gaming F15 (2021), 15.6-inch (39.62 c...    5 out of 5  1,39,990\n",
       "2  ASUS TUF Gaming F15 (2021), 15.6\" (39.62 cms) ...  4.3 out of 5  1,44,990\n",
       "3  HP ZBOOK Power G8/ Intel core i9-11900H 8 Core...     NO rating  2,43,000\n",
       "4  (Renewed) Dell G7 7500 15.6inch FHD 300 Hz Dis...     NO rating  2,25,000\n",
       "5  (Renewed) DELL XPS 7590 15.6-inch UHD Display ...     NO rating  1,75,000\n",
       "6  HP Zbook - Intel i9, 15 inch(39.6 cm)FHD 400 N...    5 out of 5  2,54,563\n",
       "7  Dell Precision 5550 || i9 -10885H || 16GB || 1...     NO rating  2,25,000\n",
       "8  Z2 G5 Workstation 700W /Core i9-10900 (2.8GHz ...     NO rating  2,39,000\n",
       "9  HP ZBook Power G8/ Intel Core i9-11950H 2.5GHz...     NO rating  2,93,000"
      ]
     },
     "execution_count": 52,
     "metadata": {},
     "output_type": "execute_result"
    }
   ],
   "source": [
    "I9_df =pd.DataFrame({'Title':title,'Rating':ratings,'Price':price})\n",
    "I9_df"
   ]
  },
  {
   "cell_type": "markdown",
   "id": "f3f105bd",
   "metadata": {},
   "source": [
    "## Q9."
   ]
  },
  {
   "cell_type": "code",
   "execution_count": 75,
   "id": "ef577751",
   "metadata": {},
   "outputs": [],
   "source": [
    "driver.get('https://www.ambitionbox.com/')"
   ]
  },
  {
   "cell_type": "code",
   "execution_count": 76,
   "id": "197572aa",
   "metadata": {},
   "outputs": [],
   "source": [
    "job =driver.find_element_by_xpath('/html/body/div[1]/nav/nav/a[6]')\n",
    "job.click()"
   ]
  },
  {
   "cell_type": "code",
   "execution_count": 77,
   "id": "f298ce8b",
   "metadata": {},
   "outputs": [],
   "source": [
    "job_search =driver.find_element_by_xpath('/html/body/div/div/div/div[2]/div[1]/div/div/div/div/span/input')\n",
    "job_search.send_keys('Data Scientist')\n"
   ]
  },
  {
   "cell_type": "code",
   "execution_count": 79,
   "id": "659a3d7e",
   "metadata": {},
   "outputs": [],
   "source": [
    "select =driver.find_element_by_xpath('/html/body/div/div/div/div[2]/div[2]/a')\n",
    "select.click()"
   ]
  },
  {
   "cell_type": "code",
   "execution_count": 80,
   "id": "21c254a3",
   "metadata": {},
   "outputs": [],
   "source": [
    "loc =driver.find_element_by_xpath('/html/body/div/div/div/div[2]/div[2]/div[1]/div/div/div/div[2]/div[1]/p')\n",
    "loc.click()"
   ]
  },
  {
   "cell_type": "code",
   "execution_count": 81,
   "id": "1f5e1e43",
   "metadata": {},
   "outputs": [],
   "source": [
    "loc_search =driver.find_element_by_xpath('/html/body/div/div/div/div[2]/div[2]/div[1]/div/div/div/div[2]/div[2]/div/div[2]/input')\n",
    "loc_search.send_keys('Noida')"
   ]
  },
  {
   "cell_type": "code",
   "execution_count": 82,
   "id": "152d33d1",
   "metadata": {},
   "outputs": [],
   "source": [
    "loc_select =driver.find_element_by_xpath('/html/body/div/div/div/div[2]/div[2]/div[1]/div/div/div/div[2]/div[2]/div/div[3]/div[1]/div[1]/div/label')\n",
    "loc_select.click()"
   ]
  },
  {
   "cell_type": "code",
   "execution_count": 85,
   "id": "b57707fd",
   "metadata": {},
   "outputs": [],
   "source": [
    "#company name\n",
    "company_name =[]\n",
    "company_tags=driver.find_elements_by_xpath('//p[@class=\"company body-medium\"]')\n",
    "for i in company_tags:\n",
    "    company_name.append(i.text)"
   ]
  },
  {
   "cell_type": "code",
   "execution_count": 90,
   "id": "ee852be8",
   "metadata": {},
   "outputs": [
    {
     "data": {
      "text/html": [
       "<div>\n",
       "<style scoped>\n",
       "    .dataframe tbody tr th:only-of-type {\n",
       "        vertical-align: middle;\n",
       "    }\n",
       "\n",
       "    .dataframe tbody tr th {\n",
       "        vertical-align: top;\n",
       "    }\n",
       "\n",
       "    .dataframe thead th {\n",
       "        text-align: right;\n",
       "    }\n",
       "</style>\n",
       "<table border=\"1\" class=\"dataframe\">\n",
       "  <thead>\n",
       "    <tr style=\"text-align: right;\">\n",
       "      <th></th>\n",
       "      <th>Company Name</th>\n",
       "    </tr>\n",
       "  </thead>\n",
       "  <tbody>\n",
       "    <tr>\n",
       "      <th>0</th>\n",
       "      <td>Jubilant Foodworks Limited</td>\n",
       "    </tr>\n",
       "    <tr>\n",
       "      <th>1</th>\n",
       "      <td>HCL Technologies</td>\n",
       "    </tr>\n",
       "    <tr>\n",
       "      <th>2</th>\n",
       "      <td>CHT Sapiense</td>\n",
       "    </tr>\n",
       "    <tr>\n",
       "      <th>3</th>\n",
       "      <td>Pitney Bowes India Pvt ltd</td>\n",
       "    </tr>\n",
       "    <tr>\n",
       "      <th>4</th>\n",
       "      <td>Zyoin</td>\n",
       "    </tr>\n",
       "    <tr>\n",
       "      <th>5</th>\n",
       "      <td>Ameriprise Financial</td>\n",
       "    </tr>\n",
       "    <tr>\n",
       "      <th>6</th>\n",
       "      <td>One97 Communications Limited</td>\n",
       "    </tr>\n",
       "    <tr>\n",
       "      <th>7</th>\n",
       "      <td>Zyoin</td>\n",
       "    </tr>\n",
       "    <tr>\n",
       "      <th>8</th>\n",
       "      <td>Stefanini</td>\n",
       "    </tr>\n",
       "    <tr>\n",
       "      <th>9</th>\n",
       "      <td>Pylon Management Consulting</td>\n",
       "    </tr>\n",
       "  </tbody>\n",
       "</table>\n",
       "</div>"
      ],
      "text/plain": [
       "                   Company Name\n",
       "0    Jubilant Foodworks Limited\n",
       "1              HCL Technologies\n",
       "2                  CHT Sapiense\n",
       "3    Pitney Bowes India Pvt ltd\n",
       "4                         Zyoin\n",
       "5          Ameriprise Financial\n",
       "6  One97 Communications Limited\n",
       "7                         Zyoin\n",
       "8                     Stefanini\n",
       "9   Pylon Management Consulting"
      ]
     },
     "execution_count": 90,
     "metadata": {},
     "output_type": "execute_result"
    }
   ],
   "source": [
    "jobs=pd.DataFrame({'Company Name':company_name})\n",
    "jobs"
   ]
  },
  {
   "cell_type": "markdown",
   "id": "5817e2a1",
   "metadata": {},
   "source": [
    "## Q10."
   ]
  },
  {
   "cell_type": "code",
   "execution_count": 16,
   "id": "042f4cf0",
   "metadata": {},
   "outputs": [],
   "source": [
    "driver.get('https://www.ambitionbox.com/')"
   ]
  },
  {
   "cell_type": "code",
   "execution_count": 17,
   "id": "3ccdb261",
   "metadata": {},
   "outputs": [],
   "source": [
    "sal_btn=driver.find_element_by_xpath('/html/body/div[1]/nav/nav/a[4]')\n",
    "sal_btn.click()"
   ]
  },
  {
   "cell_type": "code",
   "execution_count": 19,
   "id": "f78147f2",
   "metadata": {},
   "outputs": [],
   "source": [
    "search_job = driver.find_element_by_xpath('/html/body/div/div/div/main/section[1]/div[2]/div[1]/span/input')\n",
    "search_job.send_keys('Data Scientist')"
   ]
  },
  {
   "cell_type": "code",
   "execution_count": 21,
   "id": "0e588832",
   "metadata": {},
   "outputs": [],
   "source": [
    "a =(driver.find_elements_by_xpath('//div[@class=\"name\"]'))"
   ]
  },
  {
   "cell_type": "code",
   "execution_count": 23,
   "id": "49f15ef8",
   "metadata": {},
   "outputs": [
    {
     "data": {
      "text/plain": [
       "['Walmart',\n",
       " 'Ab Inbev',\n",
       " 'ZS',\n",
       " 'Optum',\n",
       " 'Fractal Analytics',\n",
       " 'Tiger Analytics',\n",
       " 'UnitedHealth',\n",
       " 'Verizon',\n",
       " 'Ganit Business Solutions',\n",
       " 'Ericsson']"
      ]
     },
     "execution_count": 23,
     "metadata": {},
     "output_type": "execute_result"
    }
   ],
   "source": [
    "#getting company names\n",
    "company=[]\n",
    "for i in a:\n",
    "    company.append(i.text.split('\\n')[0])\n",
    "company"
   ]
  },
  {
   "cell_type": "code",
   "execution_count": 25,
   "id": "9f40980d",
   "metadata": {},
   "outputs": [
    {
     "data": {
      "text/plain": [
       "['10', '25', '13', '25', '75', '30', '51', '14', '13', '43']"
      ]
     },
     "execution_count": 25,
     "metadata": {},
     "output_type": "execute_result"
    }
   ],
   "source": [
    "#total salary record\n",
    "sal_record =[]\n",
    "for i in a:\n",
    "    sal_record.append(i.text.split('\\n')[1].split(' ')[2])\n",
    "sal_record"
   ]
  },
  {
   "cell_type": "code",
   "execution_count": 46,
   "id": "15530b18",
   "metadata": {},
   "outputs": [
    {
     "data": {
      "text/plain": [
       "10"
      ]
     },
     "execution_count": 46,
     "metadata": {},
     "output_type": "execute_result"
    }
   ],
   "source": [
    "exp_tags=driver.find_elements_by_xpath('//div[@class=\"salaries sbold-list-header\"]')\n",
    "exp_required= []\n",
    "\n",
    "for i in exp_tags:\n",
    "    exp_required.append(i.text.split('\\n')[2].split(' ')[0]+' '+(i.text.split('\\n')[2].split(' ')[1]))\n",
    "len(exp_required)"
   ]
  },
  {
   "cell_type": "code",
   "execution_count": 34,
   "id": "c0c642bf",
   "metadata": {},
   "outputs": [
    {
     "name": "stdout",
     "output_type": "stream",
     "text": [
      "10 10\n"
     ]
    }
   ],
   "source": [
    "sal_tags=driver.find_elements_by_xpath('//div[@class=\"value body-medium\"]')\n",
    "\n",
    "min_sal =[]\n",
    "for i in range(0,20,2):\n",
    "    min_sal.append(sal_tags[i].text)\n",
    "\n",
    "max_sal =[]\n",
    "for i in range(1,20,2):\n",
    "    max_sal.append(sal_tags[i].text)\n",
    "\n",
    "print(len(min_sal),len(max_sal))"
   ]
  },
  {
   "cell_type": "code",
   "execution_count": 35,
   "id": "3d4cb87f",
   "metadata": {},
   "outputs": [
    {
     "data": {
      "text/plain": [
       "10"
      ]
     },
     "execution_count": 35,
     "metadata": {},
     "output_type": "execute_result"
    }
   ],
   "source": [
    "avg_sal_tags=driver.find_elements_by_xpath('//p[@class=\"averageCtc\"]')\n",
    "\n",
    "avg_sal=[]\n",
    "for i in avg_sal_tags:\n",
    "    avg_sal.append(i.text)\n",
    "len(avg_sal)"
   ]
  },
  {
   "cell_type": "code",
   "execution_count": 48,
   "id": "cb7da74c",
   "metadata": {},
   "outputs": [
    {
     "data": {
      "text/html": [
       "<div>\n",
       "<style scoped>\n",
       "    .dataframe tbody tr th:only-of-type {\n",
       "        vertical-align: middle;\n",
       "    }\n",
       "\n",
       "    .dataframe tbody tr th {\n",
       "        vertical-align: top;\n",
       "    }\n",
       "\n",
       "    .dataframe thead th {\n",
       "        text-align: right;\n",
       "    }\n",
       "</style>\n",
       "<table border=\"1\" class=\"dataframe\">\n",
       "  <thead>\n",
       "    <tr style=\"text-align: right;\">\n",
       "      <th></th>\n",
       "      <th>Company Name</th>\n",
       "      <th>Salary Records</th>\n",
       "      <th>Experience Required</th>\n",
       "      <th>Minimum Salary</th>\n",
       "      <th>Maximum Salary</th>\n",
       "      <th>Average Salary</th>\n",
       "    </tr>\n",
       "  </thead>\n",
       "  <tbody>\n",
       "    <tr>\n",
       "      <th>0</th>\n",
       "      <td>Walmart</td>\n",
       "      <td>10</td>\n",
       "      <td>3 yrs</td>\n",
       "      <td>₹ 17.7L</td>\n",
       "      <td>₹ 35.0L</td>\n",
       "      <td>₹ 28.7L</td>\n",
       "    </tr>\n",
       "    <tr>\n",
       "      <th>1</th>\n",
       "      <td>Ab Inbev</td>\n",
       "      <td>25</td>\n",
       "      <td>3-4 yrs</td>\n",
       "      <td>₹ 15.0L</td>\n",
       "      <td>₹ 25.5L</td>\n",
       "      <td>₹ 20.2L</td>\n",
       "    </tr>\n",
       "    <tr>\n",
       "      <th>2</th>\n",
       "      <td>ZS</td>\n",
       "      <td>13</td>\n",
       "      <td>2 yrs</td>\n",
       "      <td>₹ 9.8L</td>\n",
       "      <td>₹ 20.0L</td>\n",
       "      <td>₹ 15.5L</td>\n",
       "    </tr>\n",
       "    <tr>\n",
       "      <th>3</th>\n",
       "      <td>Optum</td>\n",
       "      <td>25</td>\n",
       "      <td>3-4 yrs</td>\n",
       "      <td>₹ 11.0L</td>\n",
       "      <td>₹ 21.3L</td>\n",
       "      <td>₹ 15.1L</td>\n",
       "    </tr>\n",
       "    <tr>\n",
       "      <th>4</th>\n",
       "      <td>Fractal Analytics</td>\n",
       "      <td>75</td>\n",
       "      <td>2-4 yrs</td>\n",
       "      <td>₹ 9.5L</td>\n",
       "      <td>₹ 22.0L</td>\n",
       "      <td>₹ 15.1L</td>\n",
       "    </tr>\n",
       "    <tr>\n",
       "      <th>5</th>\n",
       "      <td>Tiger Analytics</td>\n",
       "      <td>30</td>\n",
       "      <td>3-4 yrs</td>\n",
       "      <td>₹ 9.0L</td>\n",
       "      <td>₹ 18.5L</td>\n",
       "      <td>₹ 14.2L</td>\n",
       "    </tr>\n",
       "    <tr>\n",
       "      <th>6</th>\n",
       "      <td>UnitedHealth</td>\n",
       "      <td>51</td>\n",
       "      <td>2-4 yrs</td>\n",
       "      <td>₹ 8.3L</td>\n",
       "      <td>₹ 20.5L</td>\n",
       "      <td>₹ 13.8L</td>\n",
       "    </tr>\n",
       "    <tr>\n",
       "      <th>7</th>\n",
       "      <td>Verizon</td>\n",
       "      <td>14</td>\n",
       "      <td>4 yrs</td>\n",
       "      <td>₹ 10.0L</td>\n",
       "      <td>₹ 21.0L</td>\n",
       "      <td>₹ 12.7L</td>\n",
       "    </tr>\n",
       "    <tr>\n",
       "      <th>8</th>\n",
       "      <td>Ganit Business Solutions</td>\n",
       "      <td>13</td>\n",
       "      <td>4 yrs</td>\n",
       "      <td>₹ 8.5L</td>\n",
       "      <td>₹ 15.0L</td>\n",
       "      <td>₹ 12.4L</td>\n",
       "    </tr>\n",
       "    <tr>\n",
       "      <th>9</th>\n",
       "      <td>Ericsson</td>\n",
       "      <td>43</td>\n",
       "      <td>3-4 yrs</td>\n",
       "      <td>₹ 5.8L</td>\n",
       "      <td>₹ 24.0L</td>\n",
       "      <td>₹ 11.9L</td>\n",
       "    </tr>\n",
       "  </tbody>\n",
       "</table>\n",
       "</div>"
      ],
      "text/plain": [
       "               Company Name Salary Records Experience Required Minimum Salary  \\\n",
       "0                   Walmart             10               3 yrs        ₹ 17.7L   \n",
       "1                  Ab Inbev             25             3-4 yrs        ₹ 15.0L   \n",
       "2                        ZS             13               2 yrs         ₹ 9.8L   \n",
       "3                     Optum             25             3-4 yrs        ₹ 11.0L   \n",
       "4         Fractal Analytics             75             2-4 yrs         ₹ 9.5L   \n",
       "5           Tiger Analytics             30             3-4 yrs         ₹ 9.0L   \n",
       "6              UnitedHealth             51             2-4 yrs         ₹ 8.3L   \n",
       "7                   Verizon             14               4 yrs        ₹ 10.0L   \n",
       "8  Ganit Business Solutions             13               4 yrs         ₹ 8.5L   \n",
       "9                  Ericsson             43             3-4 yrs         ₹ 5.8L   \n",
       "\n",
       "  Maximum Salary Average Salary  \n",
       "0        ₹ 35.0L        ₹ 28.7L  \n",
       "1        ₹ 25.5L        ₹ 20.2L  \n",
       "2        ₹ 20.0L        ₹ 15.5L  \n",
       "3        ₹ 21.3L        ₹ 15.1L  \n",
       "4        ₹ 22.0L        ₹ 15.1L  \n",
       "5        ₹ 18.5L        ₹ 14.2L  \n",
       "6        ₹ 20.5L        ₹ 13.8L  \n",
       "7        ₹ 21.0L        ₹ 12.7L  \n",
       "8        ₹ 15.0L        ₹ 12.4L  \n",
       "9        ₹ 24.0L        ₹ 11.9L  "
      ]
     },
     "execution_count": 48,
     "metadata": {},
     "output_type": "execute_result"
    }
   ],
   "source": [
    "#creating dataframe\n",
    "salary_df = pd.DataFrame()\n",
    "salary_df['Company Name']=company\n",
    "salary_df['Salary Records']=sal_record\n",
    "salary_df['Experience Required'] =exp_required\n",
    "salary_df['Minimum Salary'] =min_sal\n",
    "salary_df['Maximum Salary'] =max_sal\n",
    "salary_df['Average Salary'] =avg_sal\n",
    "salary_df"
   ]
  },
  {
   "cell_type": "markdown",
   "id": "b503fb65",
   "metadata": {},
   "source": [
    " "
   ]
  },
  {
   "cell_type": "code",
   "execution_count": null,
   "id": "cdf854af",
   "metadata": {},
   "outputs": [],
   "source": []
  }
 ],
 "metadata": {
  "kernelspec": {
   "display_name": "Python 3 (ipykernel)",
   "language": "python",
   "name": "python3"
  },
  "language_info": {
   "codemirror_mode": {
    "name": "ipython",
    "version": 3
   },
   "file_extension": ".py",
   "mimetype": "text/x-python",
   "name": "python",
   "nbconvert_exporter": "python",
   "pygments_lexer": "ipython3",
   "version": "3.10.2"
  }
 },
 "nbformat": 4,
 "nbformat_minor": 5
}
