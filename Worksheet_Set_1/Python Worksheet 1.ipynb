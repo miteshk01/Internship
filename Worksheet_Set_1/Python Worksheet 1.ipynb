{
 "cells": [
  {
   "cell_type": "markdown",
   "id": "endless-ready",
   "metadata": {},
   "source": [
    "Write a python program to find the factorial of a number.\n"
   ]
  },
  {
   "cell_type": "code",
   "execution_count": 2,
   "id": "active-xerox",
   "metadata": {},
   "outputs": [
    {
     "name": "stdout",
     "output_type": "stream",
     "text": [
      "Enter a number5\n",
      "Factorial of number is: 120\n"
     ]
    }
   ],
   "source": [
    "import math\n",
    "a=int(input(\"Enter a number\"))\n",
    "f=math.factorial(a)\n",
    "print(\"Factorial of number is:\",f)"
   ]
  },
  {
   "cell_type": "markdown",
   "id": "instructional-villa",
   "metadata": {},
   "source": [
    "Write a python program to find whether a number is prime or composite."
   ]
  },
  {
   "cell_type": "code",
   "execution_count": 9,
   "id": "social-possible",
   "metadata": {},
   "outputs": [
    {
     "name": "stdout",
     "output_type": "stream",
     "text": [
      "Enter a number4\n",
      "4 is a Composite number\n"
     ]
    }
   ],
   "source": [
    "n=int(input(\"Enter a number\"))\n",
    "\n",
    "if n>1 :\n",
    "    for i in range(2,int(n/2)+1):\n",
    "        if (n % i == 0):\n",
    "            print(n,\"is a Composite number\")\n",
    "            break\n",
    "        else:\n",
    "            print(n,\"is a Prime number\")\n",
    "#If number is less than 1 it can't be prime\n",
    "\n",
    "else:\n",
    "    print(n,\"is not a Prime number\")"
   ]
  },
  {
   "cell_type": "markdown",
   "id": "emotional-substitute",
   "metadata": {},
   "source": [
    "Write a python program to check whether a given string is palindrome or not."
   ]
  },
  {
   "cell_type": "code",
   "execution_count": 11,
   "id": "noted-montana",
   "metadata": {},
   "outputs": [
    {
     "name": "stdout",
     "output_type": "stream",
     "text": [
      "Enter a string\n",
      "hello\n",
      "String is not palindrom\n"
     ]
    }
   ],
   "source": [
    "#defining function which checks string is palindrom or not\n",
    "def ispalindrom(s):\n",
    "    return s== s[::-1]\n",
    "\n",
    "s=input(\"Enter a string\\n\")\n",
    "result=ispalindrom(s)\n",
    "\n",
    "#printing the result\n",
    "if result:\n",
    "    print(\"String is palindrom\")\n",
    "else:\n",
    "    print(\"String is not palindrom\")"
   ]
  },
  {
   "cell_type": "markdown",
   "id": "veterinary-nelson",
   "metadata": {},
   "source": [
    "Write a Python program to get the third side of right-angled triangle from two given sides"
   ]
  },
  {
   "cell_type": "code",
   "execution_count": 15,
   "id": "south-performer",
   "metadata": {},
   "outputs": [
    {
     "name": "stdout",
     "output_type": "stream",
     "text": [
      "hypotenuse = 5.0\n",
      "adjacent_side = 9.16515138991168\n",
      "opposite_side = 9.746794344808963\n"
     ]
    }
   ],
   "source": [
    "#Defining function for Pythsgoras' theorem\n",
    "def pythagoras(opposite_side,adjacent_side,hypotenuse):\n",
    "    if(opposite_side == str(\"x\")):\n",
    "        return (\"opposite_side = \" + str(((hypotenuse**2) - (adjacent_side**2))**0.5))\n",
    "    elif (adjacent_side == str(\"x\")):\n",
    "          return(\"adjacent_side = \" +str(((hypotenuse**2) - (opposite_side**2))**0.5))\n",
    "    elif (hypotenuse == str(\"x\")):\n",
    "                 return (\"hypotenuse = \"+str(((opposite_side**2) + (adjacent_side**2))**0.5))\n",
    "    else:\n",
    "          print(\"You already know the answer\")\n",
    "\n",
    "print(pythagoras(3,4,\"x\"))\n",
    "print(pythagoras(4,\"x\",10))\n",
    "print(pythagoras(\"x\",7,12))"
   ]
  },
  {
   "cell_type": "markdown",
   "id": "central-reputation",
   "metadata": {},
   "source": [
    "Write a python program to print the frequency of each of the characters present in a given string."
   ]
  },
  {
   "cell_type": "code",
   "execution_count": 35,
   "id": "healthy-collins",
   "metadata": {},
   "outputs": [
    {
     "name": "stdout",
     "output_type": "stream",
     "text": [
      "Count of all characters in HelloWorld is :\n",
      "  Counter({'l': 3, 'o': 2, 'H': 1, 'e': 1, 'W': 1, 'r': 1, 'd': 1})\n"
     ]
    }
   ],
   "source": [
    "from collections import Counter\n",
    "\n",
    "# initializing string\n",
    "string = \"HelloWorld\"\n",
    "\n",
    "# using collections.Counter() to get count of each element in string\n",
    "res = Counter(string)\n",
    "\n",
    "# printing result\n",
    "print (\"Count of all characters in HelloWorld is :\\n \",(res))\n"
   ]
  },
  {
   "cell_type": "markdown",
   "id": "dated-staff",
   "metadata": {},
   "source": []
  }
 ],
 "metadata": {
  "kernelspec": {
   "display_name": "Python 3",
   "language": "python",
   "name": "python3"
  },
  "language_info": {
   "codemirror_mode": {
    "name": "ipython",
    "version": 3
   },
   "file_extension": ".py",
   "mimetype": "text/x-python",
   "name": "python",
   "nbconvert_exporter": "python",
   "pygments_lexer": "ipython3",
   "version": "3.9.1"
  }
 },
 "nbformat": 4,
 "nbformat_minor": 5
}
